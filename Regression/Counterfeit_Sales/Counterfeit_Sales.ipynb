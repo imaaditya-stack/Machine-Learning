{
 "cells": [
  {
   "cell_type": "code",
   "execution_count": 0,
   "metadata": {
    "colab": {},
    "colab_type": "code",
    "id": "FHhIfSAdgRdN"
   },
   "outputs": [],
   "source": [
    "#Importing all the libraries and packages\n",
    "\n",
    "import os\n",
    "import pandas as pd \n",
    "import numpy as np\n",
    "import warnings\n",
    "warnings.filterwarnings(\"ignore\")\n",
    "\n",
    "#Data Visualization\n",
    "import matplotlib.pyplot as plt\n",
    "%matplotlib inline\n",
    "import seaborn as sns\n",
    "\n",
    "#Scikit-Learn Packages\n",
    "from sklearn import metrics\n",
    "from sklearn.linear_model import LinearRegression\n",
    "from sklearn.model_selection import train_test_split\n",
    "from sklearn.linear_model import Ridge,Lasso\n",
    "from sklearn.model_selection import GridSearchCV\n",
    "from sklearn.metrics import mean_absolute_error\n",
    "from sklearn.ensemble import RandomForestRegressor \n",
    "from sklearn.model_selection import RandomizedSearchCV"
   ]
  },
  {
   "cell_type": "code",
   "execution_count": 0,
   "metadata": {
    "colab": {},
    "colab_type": "code",
    "id": "0B4jY92RgRdU"
   },
   "outputs": [],
   "source": [
    "#Reading the train and test files\n",
    "train_data = pd.read_csv('/content/drive/My Drive/Project3_Data/counterfeit_train.csv')\n",
    "test_data = pd.read_csv('/content/drive/My Drive/Project3_Data/counterfeit_test.csv')"
   ]
  },
  {
   "cell_type": "code",
   "execution_count": 5,
   "metadata": {
    "colab": {
     "base_uri": "https://localhost:8080/",
     "height": 222
    },
    "colab_type": "code",
    "id": "akHbLoiugRdY",
    "outputId": "79a0e8df-4536-4b8a-a91b-d91a06573490"
   },
   "outputs": [
    {
     "data": {
      "text/html": [
       "<div>\n",
       "<style scoped>\n",
       "    .dataframe tbody tr th:only-of-type {\n",
       "        vertical-align: middle;\n",
       "    }\n",
       "\n",
       "    .dataframe tbody tr th {\n",
       "        vertical-align: top;\n",
       "    }\n",
       "\n",
       "    .dataframe thead th {\n",
       "        text-align: right;\n",
       "    }\n",
       "</style>\n",
       "<table border=\"1\" class=\"dataframe\">\n",
       "  <thead>\n",
       "    <tr style=\"text-align: right;\">\n",
       "      <th></th>\n",
       "      <th>Medicine_ID</th>\n",
       "      <th>Counterfeit_Weight</th>\n",
       "      <th>DistArea_ID</th>\n",
       "      <th>Active_Since</th>\n",
       "      <th>Medicine_MRP</th>\n",
       "      <th>Medicine_Type</th>\n",
       "      <th>SidEffect_Level</th>\n",
       "      <th>Availability_rating</th>\n",
       "      <th>Area_Type</th>\n",
       "      <th>Area_City_Type</th>\n",
       "      <th>Area_dist_level</th>\n",
       "      <th>Counterfeit_Sales</th>\n",
       "    </tr>\n",
       "  </thead>\n",
       "  <tbody>\n",
       "    <tr>\n",
       "      <th>0</th>\n",
       "      <td>RRA15</td>\n",
       "      <td>13.100</td>\n",
       "      <td>Area046</td>\n",
       "      <td>1995</td>\n",
       "      <td>160.2366</td>\n",
       "      <td>Antimalarial</td>\n",
       "      <td>critical</td>\n",
       "      <td>0.070422</td>\n",
       "      <td>DownTown</td>\n",
       "      <td>Tier 1</td>\n",
       "      <td>Small</td>\n",
       "      <td>1775.5026</td>\n",
       "    </tr>\n",
       "    <tr>\n",
       "      <th>1</th>\n",
       "      <td>YVV26</td>\n",
       "      <td>NaN</td>\n",
       "      <td>Area027</td>\n",
       "      <td>1983</td>\n",
       "      <td>110.4384</td>\n",
       "      <td>Mstablizers</td>\n",
       "      <td>mild</td>\n",
       "      <td>0.013000</td>\n",
       "      <td>CityLimits</td>\n",
       "      <td>Tier 3</td>\n",
       "      <td>Medium</td>\n",
       "      <td>3069.1520</td>\n",
       "    </tr>\n",
       "    <tr>\n",
       "      <th>2</th>\n",
       "      <td>LJC15</td>\n",
       "      <td>9.025</td>\n",
       "      <td>Area046</td>\n",
       "      <td>1995</td>\n",
       "      <td>259.4092</td>\n",
       "      <td>Cardiac</td>\n",
       "      <td>mild</td>\n",
       "      <td>0.060783</td>\n",
       "      <td>DownTown</td>\n",
       "      <td>Tier 1</td>\n",
       "      <td>Small</td>\n",
       "      <td>2603.0920</td>\n",
       "    </tr>\n",
       "    <tr>\n",
       "      <th>3</th>\n",
       "      <td>GWC40</td>\n",
       "      <td>11.800</td>\n",
       "      <td>Area046</td>\n",
       "      <td>1995</td>\n",
       "      <td>99.9830</td>\n",
       "      <td>OralContraceptives</td>\n",
       "      <td>mild</td>\n",
       "      <td>0.065555</td>\n",
       "      <td>DownTown</td>\n",
       "      <td>Tier 1</td>\n",
       "      <td>Small</td>\n",
       "      <td>1101.7130</td>\n",
       "    </tr>\n",
       "    <tr>\n",
       "      <th>4</th>\n",
       "      <td>QMN13</td>\n",
       "      <td>NaN</td>\n",
       "      <td>Area019</td>\n",
       "      <td>1983</td>\n",
       "      <td>56.4402</td>\n",
       "      <td>Hreplacements</td>\n",
       "      <td>critical</td>\n",
       "      <td>0.248859</td>\n",
       "      <td>MidTownResidential</td>\n",
       "      <td>Tier 1</td>\n",
       "      <td>Small</td>\n",
       "      <td>158.9402</td>\n",
       "    </tr>\n",
       "  </tbody>\n",
       "</table>\n",
       "</div>"
      ],
      "text/plain": [
       "  Medicine_ID  Counterfeit_Weight  ... Area_dist_level  Counterfeit_Sales\n",
       "0       RRA15              13.100  ...           Small          1775.5026\n",
       "1       YVV26                 NaN  ...          Medium          3069.1520\n",
       "2       LJC15               9.025  ...           Small          2603.0920\n",
       "3       GWC40              11.800  ...           Small          1101.7130\n",
       "4       QMN13                 NaN  ...           Small           158.9402\n",
       "\n",
       "[5 rows x 12 columns]"
      ]
     },
     "execution_count": 5,
     "metadata": {
      "tags": []
     },
     "output_type": "execute_result"
    }
   ],
   "source": [
    "train_data.head()"
   ]
  },
  {
   "cell_type": "code",
   "execution_count": 7,
   "metadata": {
    "colab": {
     "base_uri": "https://localhost:8080/",
     "height": 35
    },
    "colab_type": "code",
    "id": "5fNuaDmjkQk3",
    "outputId": "4d15786e-b61e-4e37-d766-36ed188708f5"
   },
   "outputs": [
    {
     "name": "stdout",
     "output_type": "stream",
     "text": [
      "train_data_dimensions = (6818, 12), test_data_dimensions = (1705, 11)\n"
     ]
    }
   ],
   "source": [
    "print(\"train_data_dimensions = {}, test_data_dimensions = {}\".format(train_data.shape, test_data.shape))"
   ]
  },
  {
   "cell_type": "code",
   "execution_count": 10,
   "metadata": {
    "colab": {
     "base_uri": "https://localhost:8080/",
     "height": 260
    },
    "colab_type": "code",
    "id": "BjnbrlqT1VbJ",
    "outputId": "0f57634e-7356-4de2-8663-fc562ec2c811"
   },
   "outputs": [
    {
     "data": {
      "text/plain": [
       "Medicine_ID               0\n",
       "Counterfeit_Weight     1166\n",
       "DistArea_ID               0\n",
       "Active_Since              0\n",
       "Medicine_MRP              0\n",
       "Medicine_Type             0\n",
       "SidEffect_Level           0\n",
       "Availability_rating       0\n",
       "Area_Type                 0\n",
       "Area_City_Type            0\n",
       "Area_dist_level           0\n",
       "Counterfeit_Sales         0\n",
       "data                      0\n",
       "dtype: int64"
      ]
     },
     "execution_count": 10,
     "metadata": {
      "tags": []
     },
     "output_type": "execute_result"
    }
   ],
   "source": [
    "train_data.isnull().sum()"
   ]
  },
  {
   "cell_type": "markdown",
   "metadata": {
    "colab_type": "text",
    "id": "BXpbCgFZAWmx"
   },
   "source": [
    "\n",
    "Only one column has Nan values"
   ]
  },
  {
   "cell_type": "code",
   "execution_count": 0,
   "metadata": {
    "colab": {},
    "colab_type": "code",
    "id": "lBWMKcnigRdi"
   },
   "outputs": [],
   "source": [
    "#Equalizing the columns of train and test files\n",
    "\n",
    "train_data['data'] = 'train'\n",
    "test_data['data'] = 'test'\n",
    "test_data['Counterfeit_Sales'] = np.nan"
   ]
  },
  {
   "cell_type": "code",
   "execution_count": 0,
   "metadata": {
    "colab": {},
    "colab_type": "code",
    "id": "fReVE6vQjqdj"
   },
   "outputs": [],
   "source": [
    "file = pd.concat([train_data, test_data], axis=0)"
   ]
  },
  {
   "cell_type": "code",
   "execution_count": 13,
   "metadata": {
    "colab": {
     "base_uri": "https://localhost:8080/",
     "height": 35
    },
    "colab_type": "code",
    "id": "cyYscJAGkCq1",
    "outputId": "aae4242e-e13a-40c0-9f5e-e651f11173c4"
   },
   "outputs": [
    {
     "data": {
      "text/plain": [
       "(8523, 13)"
      ]
     },
     "execution_count": 13,
     "metadata": {
      "tags": []
     },
     "output_type": "execute_result"
    }
   ],
   "source": [
    "file.shape"
   ]
  },
  {
   "cell_type": "code",
   "execution_count": 14,
   "metadata": {
    "colab": {
     "base_uri": "https://localhost:8080/",
     "height": 104
    },
    "colab_type": "code",
    "id": "xHqt-V8-Skj3",
    "outputId": "321397ec-0424-4d0e-db6c-2f6175eda2a6"
   },
   "outputs": [
    {
     "data": {
      "text/plain": [
       "Index(['Active_Since', 'Area_City_Type', 'Area_Type', 'Area_dist_level',\n",
       "       'Availability_rating', 'Counterfeit_Sales', 'Counterfeit_Weight',\n",
       "       'DistArea_ID', 'Medicine_ID', 'Medicine_MRP', 'Medicine_Type',\n",
       "       'SidEffect_Level', 'data'],\n",
       "      dtype='object')"
      ]
     },
     "execution_count": 14,
     "metadata": {
      "tags": []
     },
     "output_type": "execute_result"
    }
   ],
   "source": [
    "file.columns"
   ]
  },
  {
   "cell_type": "code",
   "execution_count": 15,
   "metadata": {
    "colab": {
     "base_uri": "https://localhost:8080/",
     "height": 260
    },
    "colab_type": "code",
    "id": "RcFkEcVUkDuu",
    "outputId": "581a57b8-d7c7-497e-8d41-65d0332d4e1f"
   },
   "outputs": [
    {
     "data": {
      "text/plain": [
       "Active_Since             int64\n",
       "Area_City_Type          object\n",
       "Area_Type               object\n",
       "Area_dist_level         object\n",
       "Availability_rating    float64\n",
       "Counterfeit_Sales      float64\n",
       "Counterfeit_Weight     float64\n",
       "DistArea_ID             object\n",
       "Medicine_ID             object\n",
       "Medicine_MRP           float64\n",
       "Medicine_Type           object\n",
       "SidEffect_Level         object\n",
       "data                    object\n",
       "dtype: object"
      ]
     },
     "execution_count": 15,
     "metadata": {
      "tags": []
     },
     "output_type": "execute_result"
    }
   ],
   "source": [
    "file.dtypes"
   ]
  },
  {
   "cell_type": "code",
   "execution_count": 16,
   "metadata": {
    "colab": {
     "base_uri": "https://localhost:8080/",
     "height": 260
    },
    "colab_type": "code",
    "id": "TINjb1H5knDY",
    "outputId": "4522c182-26e0-4b8e-fb54-72bef9760946"
   },
   "outputs": [
    {
     "data": {
      "text/plain": [
       "Active_Since              0\n",
       "Area_City_Type            0\n",
       "Area_Type                 0\n",
       "Area_dist_level           0\n",
       "Availability_rating       0\n",
       "Counterfeit_Sales      1705\n",
       "Counterfeit_Weight     1463\n",
       "DistArea_ID               0\n",
       "Medicine_ID               0\n",
       "Medicine_MRP              0\n",
       "Medicine_Type             0\n",
       "SidEffect_Level           0\n",
       "data                      0\n",
       "dtype: int64"
      ]
     },
     "execution_count": 16,
     "metadata": {
      "tags": []
     },
     "output_type": "execute_result"
    }
   ],
   "source": [
    "#Check for empty or NaN values\n",
    "file.isnull().sum()\n",
    "#Column Counterfeit_Weight has NaN values"
   ]
  },
  {
   "cell_type": "code",
   "execution_count": 48,
   "metadata": {
    "colab": {
     "base_uri": "https://localhost:8080/",
     "height": 260
    },
    "colab_type": "code",
    "id": "g8ENqBjzk2ER",
    "outputId": "4a2dd286-3beb-4ff1-b4bf-115674771a5d"
   },
   "outputs": [
    {
     "data": {
      "text/plain": [
       "Medicine_ID            0\n",
       "Counterfeit_Weight     0\n",
       "DistArea_ID            0\n",
       "Active_Since           0\n",
       "Medicine_MRP           0\n",
       "Medicine_Type          0\n",
       "SidEffect_Level        0\n",
       "Availability_rating    0\n",
       "Area_Type              0\n",
       "Area_City_Type         0\n",
       "Area_dist_level        0\n",
       "Counterfeit_Sales      0\n",
       "data                   0\n",
       "dtype: int64"
      ]
     },
     "execution_count": 48,
     "metadata": {
      "tags": []
     },
     "output_type": "execute_result"
    }
   ],
   "source": [
    "#Replacing NaNs with mean of the column\n",
    "\n",
    "def fill_empty(file):\n",
    "    file.fillna(value = file.mean(), inplace = True)\n",
    "    return file.isnull().sum()\n",
    "\n",
    "fill_empty(file)\n",
    "fill_empty(train_data)"
   ]
  },
  {
   "cell_type": "markdown",
   "metadata": {
    "colab_type": "text",
    "id": "pNmcUctp75OD"
   },
   "source": [
    "# Exploratory Data Analysis"
   ]
  },
  {
   "cell_type": "code",
   "execution_count": 18,
   "metadata": {
    "colab": {
     "base_uri": "https://localhost:8080/",
     "height": 329
    },
    "colab_type": "code",
    "id": "2ml0i3AV8AmG",
    "outputId": "18d121ec-3138-4dd6-da45-c408150c1f5d"
   },
   "outputs": [
    {
     "name": "stdout",
     "output_type": "stream",
     "text": [
      "<class 'pandas.core.frame.DataFrame'>\n",
      "RangeIndex: 6818 entries, 0 to 6817\n",
      "Data columns (total 13 columns):\n",
      "Medicine_ID            6818 non-null object\n",
      "Counterfeit_Weight     6818 non-null float64\n",
      "DistArea_ID            6818 non-null object\n",
      "Active_Since           6818 non-null int64\n",
      "Medicine_MRP           6818 non-null float64\n",
      "Medicine_Type          6818 non-null object\n",
      "SidEffect_Level        6818 non-null object\n",
      "Availability_rating    6818 non-null float64\n",
      "Area_Type              6818 non-null object\n",
      "Area_City_Type         6818 non-null object\n",
      "Area_dist_level        6818 non-null object\n",
      "Counterfeit_Sales      6818 non-null float64\n",
      "data                   6818 non-null object\n",
      "dtypes: float64(4), int64(1), object(8)\n",
      "memory usage: 692.6+ KB\n"
     ]
    }
   ],
   "source": [
    "train_data.info()"
   ]
  },
  {
   "cell_type": "code",
   "execution_count": 36,
   "metadata": {
    "colab": {
     "base_uri": "https://localhost:8080/",
     "height": 202
    },
    "colab_type": "code",
    "id": "fmUB8l6iYOIk",
    "outputId": "33ccafdc-9e5b-4fe8-f673-14fdbbe261bd"
   },
   "outputs": [
    {
     "data": {
      "text/html": [
       "<div>\n",
       "<style scoped>\n",
       "    .dataframe tbody tr th:only-of-type {\n",
       "        vertical-align: middle;\n",
       "    }\n",
       "\n",
       "    .dataframe tbody tr th {\n",
       "        vertical-align: top;\n",
       "    }\n",
       "\n",
       "    .dataframe thead th {\n",
       "        text-align: right;\n",
       "    }\n",
       "</style>\n",
       "<table border=\"1\" class=\"dataframe\">\n",
       "  <thead>\n",
       "    <tr style=\"text-align: right;\">\n",
       "      <th>col_0</th>\n",
       "      <th>Average</th>\n",
       "    </tr>\n",
       "    <tr>\n",
       "      <th>Area_Type</th>\n",
       "      <th></th>\n",
       "    </tr>\n",
       "  </thead>\n",
       "  <tbody>\n",
       "    <tr>\n",
       "      <th>CityLimits</th>\n",
       "      <td>3772.254917</td>\n",
       "    </tr>\n",
       "    <tr>\n",
       "      <th>DownTown</th>\n",
       "      <td>2421.278379</td>\n",
       "    </tr>\n",
       "    <tr>\n",
       "      <th>Industrial</th>\n",
       "      <td>2106.573248</td>\n",
       "    </tr>\n",
       "    <tr>\n",
       "      <th>MidTownResidential</th>\n",
       "      <td>447.847065</td>\n",
       "    </tr>\n",
       "  </tbody>\n",
       "</table>\n",
       "</div>"
      ],
      "text/plain": [
       "col_0                   Average\n",
       "Area_Type                      \n",
       "CityLimits          3772.254917\n",
       "DownTown            2421.278379\n",
       "Industrial          2106.573248\n",
       "MidTownResidential   447.847065"
      ]
     },
     "execution_count": 36,
     "metadata": {
      "tags": []
     },
     "output_type": "execute_result"
    }
   ],
   "source": [
    "pd.crosstab(index=train_data.Area_Type, columns='Average', \\\n",
    "            values=train_data.Counterfeit_Sales, aggfunc='mean')"
   ]
  },
  {
   "cell_type": "markdown",
   "metadata": {
    "colab_type": "text",
    "id": "nv7FYyh4bQPu"
   },
   "source": [
    "The Area_Type MidTownResidential have low counterfeit sales"
   ]
  },
  {
   "cell_type": "code",
   "execution_count": 19,
   "metadata": {
    "colab": {
     "base_uri": "https://localhost:8080/",
     "height": 297
    },
    "colab_type": "code",
    "id": "ssNLwYnN8IJh",
    "outputId": "f02a1ac1-c75b-47ba-e522-cf6e53b78269"
   },
   "outputs": [
    {
     "data": {
      "text/plain": [
       "<matplotlib.axes._subplots.AxesSubplot at 0x7f6e2d4dcc50>"
      ]
     },
     "execution_count": 19,
     "metadata": {
      "tags": []
     },
     "output_type": "execute_result"
    },
    {
     "data": {
      "image/png": "[encoded data removed]",
      "text/plain": [
       "<Figure size 432x288 with 1 Axes>"
      ]
     },
     "metadata": {
      "tags": []
     },
     "output_type": "display_data"
    }
   ],
   "source": [
    "sns.distplot(a=train_data['Counterfeit_Sales'], bins=50)"
   ]
  },
  {
   "cell_type": "code",
   "execution_count": 20,
   "metadata": {
    "colab": {
     "base_uri": "https://localhost:8080/",
     "height": 297
    },
    "colab_type": "code",
    "id": "nj43_Ip68H-T",
    "outputId": "ab28bf10-97b2-4437-fdfc-52fd7aa9f647"
   },
   "outputs": [
    {
     "data": {
      "text/plain": [
       "<matplotlib.axes._subplots.AxesSubplot at 0x7f6e2d5fb438>"
      ]
     },
     "execution_count": 20,
     "metadata": {
      "tags": []
     },
     "output_type": "execute_result"
    },
    {
     "data": {
      "image/png": "[encoded data removed]",
      "text/plain": [
       "<Figure size 432x288 with 1 Axes>"
      ]
     },
     "metadata": {
      "tags": []
     },
     "output_type": "display_data"
    }
   ],
   "source": [
    "sns.boxplot(train_data['Counterfeit_Sales'])"
   ]
  },
  {
   "cell_type": "markdown",
   "metadata": {
    "colab_type": "text",
    "id": "3pMvDbDtEGFs"
   },
   "source": [
    "Checking for linearity"
   ]
  },
  {
   "cell_type": "code",
   "execution_count": 21,
   "metadata": {
    "colab": {
     "base_uri": "https://localhost:8080/",
     "height": 387
    },
    "colab_type": "code",
    "id": "6j3TKgWB8HxC",
    "outputId": "5e115cc0-6aca-4c2d-a245-63288f2d3ddc"
   },
   "outputs": [
    {
     "data": {
      "text/plain": [
       "<seaborn.axisgrid.FacetGrid at 0x7f6e2d02dc88>"
      ]
     },
     "execution_count": 21,
     "metadata": {
      "tags": []
     },
     "output_type": "execute_result"
    },
    {
     "data": {
      "image/png": "[encoded data removed]",
      "text/plain": [
       "<Figure size 360x360 with 1 Axes>"
      ]
     },
     "metadata": {
      "tags": []
     },
     "output_type": "display_data"
    }
   ],
   "source": [
    "sns.lmplot(x='Counterfeit_Sales', y='Medicine_MRP', data=train_data.sample(n=200))"
   ]
  },
  {
   "cell_type": "code",
   "execution_count": 0,
   "metadata": {
    "colab": {
     "base_uri": "https://localhost:8080/",
     "height": 388
    },
    "colab_type": "code",
    "id": "OTuALiRQCTdy",
    "outputId": "02f69bbf-2ec0-472c-8014-a5dbbee86e3e"
   },
   "outputs": [
    {
     "data": {
      "text/plain": [
       "<seaborn.axisgrid.FacetGrid at 0x7f043613c240>"
      ]
     },
     "execution_count": 29,
     "metadata": {
      "tags": []
     },
     "output_type": "execute_result"
    },
    {
     "data": {
      "image/png": "[encoded data removed]",
      "text/plain": [
       "<Figure size 360x360 with 1 Axes>"
      ]
     },
     "metadata": {
      "tags": []
     },
     "output_type": "display_data"
    }
   ],
   "source": [
    "\n",
    "sns.lmplot(x='Counterfeit_Sales', y='Counterfeit_Weight', data=train_data.sample(n=200))"
   ]
  },
  {
   "cell_type": "code",
   "execution_count": 0,
   "metadata": {
    "colab": {
     "base_uri": "https://localhost:8080/",
     "height": 299
    },
    "colab_type": "code",
    "id": "UjP6OHMd8Hfu",
    "outputId": "8c61d85b-a6ae-416a-c5eb-be98467c0876"
   },
   "outputs": [
    {
     "data": {
      "text/plain": [
       "<matplotlib.axes._subplots.AxesSubplot at 0x7f04360d9550>"
      ]
     },
     "execution_count": 27,
     "metadata": {
      "tags": []
     },
     "output_type": "execute_result"
    },
    {
     "data": {
      "image/png": "[encoded data removed]",
      "text/plain": [
       "<Figure size 432x288 with 1 Axes>"
      ]
     },
     "metadata": {
      "tags": []
     },
     "output_type": "display_data"
    }
   ],
   "source": [
    "sns.countplot(x=train_data['Active_Since'])"
   ]
  },
  {
   "cell_type": "code",
   "execution_count": 0,
   "metadata": {
    "colab": {
     "base_uri": "https://localhost:8080/",
     "height": 388
    },
    "colab_type": "code",
    "id": "ykgN3qWkVsf8",
    "outputId": "d18f0c28-a3b6-4b90-a8bc-b2d1e5fb6720"
   },
   "outputs": [
    {
     "data": {
      "text/plain": [
       "<seaborn.axisgrid.FacetGrid at 0x7fe6d7b9c7f0>"
      ]
     },
     "execution_count": 36,
     "metadata": {
      "tags": []
     },
     "output_type": "execute_result"
    },
    {
     "data": {
      "image/png": "[encoded data removed]",
      "text/plain": [
       "<Figure size 360x360 with 1 Axes>"
      ]
     },
     "metadata": {
      "tags": []
     },
     "output_type": "display_data"
    }
   ],
   "source": [
    "sns.lmplot(x='Availability_rating', y='Counterfeit_Sales', data=train_data.sample(n=200))"
   ]
  },
  {
   "cell_type": "code",
   "execution_count": 0,
   "metadata": {
    "colab": {
     "base_uri": "https://localhost:8080/",
     "height": 223
    },
    "colab_type": "code",
    "id": "rd2q_dmaH6mn",
    "outputId": "89e70622-2dd3-4076-aaee-45be1c811299"
   },
   "outputs": [
    {
     "name": "stdout",
     "output_type": "stream",
     "text": [
      "Active_Since\n",
      "1983    2544.127016\n",
      "1985    2407.024123\n",
      "1995    2358.722955\n",
      "1996     445.985861\n",
      "1997    2442.677445\n",
      "2000    2310.996675\n",
      "2002    2529.951912\n",
      "2005    2476.010053\n",
      "2007    2106.573248\n",
      "Name: Counterfeit_Sales, dtype: float64\n"
     ]
    }
   ],
   "source": [
    "group = train_data.groupby('Active_Since')\n",
    "x = group['Counterfeit_Sales'].agg(np.mean)\n",
    "print(x)"
   ]
  },
  {
   "cell_type": "markdown",
   "metadata": {
    "colab_type": "text",
    "id": "c8WtvtkhJJ08"
   },
   "source": [
    "Year 1996 has the lowest, and Year 1983 has the highest Counterfeit Sales"
   ]
  },
  {
   "cell_type": "code",
   "execution_count": 0,
   "metadata": {
    "colab": {
     "base_uri": "https://localhost:8080/",
     "height": 689
    },
    "colab_type": "code",
    "id": "czZpKtyHKo9G",
    "outputId": "600524ab-9f53-499d-b379-c83e526eae02"
   },
   "outputs": [
    {
     "name": "stdout",
     "output_type": "stream",
     "text": [
      "Medicine_Type\n",
      "Analgesics            2091.241418\n",
      "Antacids              2259.878564\n",
      "Antibiotics           2397.201930\n",
      "Antifungal            2444.055773\n",
      "Antimalarial          2192.684238\n",
      "Antipyretics          2292.723616\n",
      "Antiseptics           2366.593219\n",
      "Antiviral             2583.158763\n",
      "Cardiac               2362.983092\n",
      "Hreplacements         2376.118324\n",
      "Mstablizers           2044.869218\n",
      "MuscleRelaxants       2091.091800\n",
      "OralContraceptives    2245.216825\n",
      "Statins               2309.446292\n",
      "Stimulants            2279.968747\n",
      "Tranquilizers         2084.449652\n",
      "Name: Counterfeit_Sales, dtype: float64\n",
      "Medicine_Type\n",
      "Analgesics            141.348362\n",
      "Antacids              150.480346\n",
      "Antibiotics           155.363720\n",
      "Antifungal            155.506894\n",
      "Antimalarial          149.767646\n",
      "Antipyretics          157.918365\n",
      "Antiseptics           158.799348\n",
      "Antiviral             149.864241\n",
      "Cardiac               150.613139\n",
      "Hreplacements         156.753161\n",
      "Mstablizers           136.936503\n",
      "MuscleRelaxants       144.989519\n",
      "OralContraceptives    150.057191\n",
      "Statins               148.763171\n",
      "Stimulants            153.743486\n",
      "Tranquilizers         141.676520\n",
      "Name: Medicine_MRP, dtype: float64\n"
     ]
    }
   ],
   "source": [
    "group = train_data.groupby('Medicine_Type')\n",
    "x = group['Counterfeit_Sales'].agg(np.mean)\n",
    "y = group['Medicine_MRP'].agg(np.mean)\n",
    "print(x)\n",
    "print(y)"
   ]
  },
  {
   "cell_type": "code",
   "execution_count": 0,
   "metadata": {
    "colab": {
     "base_uri": "https://localhost:8080/",
     "height": 720
    },
    "colab_type": "code",
    "id": "9hJh1kHxLLl-",
    "outputId": "c90c8b8d-b25e-41c4-f5b7-74c05f06045f"
   },
   "outputs": [
    {
     "data": {
      "text/plain": [
       "[Text(0, 0, 'Antimalarial'),\n",
       " Text(0, 0, 'Mstablizers'),\n",
       " Text(0, 0, 'Cardiac'),\n",
       " Text(0, 0, 'OralContraceptives'),\n",
       " Text(0, 0, 'Hreplacements'),\n",
       " Text(0, 0, 'Antiseptics'),\n",
       " Text(0, 0, 'Statins'),\n",
       " Text(0, 0, 'Analgesics'),\n",
       " Text(0, 0, 'MuscleRelaxants'),\n",
       " Text(0, 0, 'Antibiotics'),\n",
       " Text(0, 0, 'Antifungal'),\n",
       " Text(0, 0, 'Antiviral'),\n",
       " Text(0, 0, 'Tranquilizers'),\n",
       " Text(0, 0, 'Antacids'),\n",
       " Text(0, 0, 'Antipyretics'),\n",
       " Text(0, 0, 'Stimulants')]"
      ]
     },
     "execution_count": 21,
     "metadata": {
      "tags": []
     },
     "output_type": "execute_result"
    },
    {
     "data": {
      "image/png": "[encoded data removed]",
      "text/plain": [
       "<Figure size 720x360 with 1 Axes>"
      ]
     },
     "metadata": {
      "tags": []
     },
     "output_type": "display_data"
    }
   ],
   "source": [
    "plt.figure(figsize=(10,5))\n",
    "chart = sns.countplot(x='Medicine_Type', hue='SidEffect_Level', data=train_data)\n",
    "chart.set_xticklabels(chart.get_xticklabels(), rotation=90)"
   ]
  },
  {
   "cell_type": "code",
   "execution_count": 0,
   "metadata": {
    "colab": {
     "base_uri": "https://localhost:8080/",
     "height": 570
    },
    "colab_type": "code",
    "id": "AqZt7x0NMkmi",
    "outputId": "c0e2f017-8bc3-435f-b597-8d3472eeb892"
   },
   "outputs": [
    {
     "data": {
      "text/html": [
       "<div>\n",
       "<style scoped>\n",
       "    .dataframe tbody tr th:only-of-type {\n",
       "        vertical-align: middle;\n",
       "    }\n",
       "\n",
       "    .dataframe tbody tr th {\n",
       "        vertical-align: top;\n",
       "    }\n",
       "\n",
       "    .dataframe thead th {\n",
       "        text-align: right;\n",
       "    }\n",
       "</style>\n",
       "<table border=\"1\" class=\"dataframe\">\n",
       "  <thead>\n",
       "    <tr style=\"text-align: right;\">\n",
       "      <th>SidEffect_Level</th>\n",
       "      <th>critical</th>\n",
       "      <th>mild</th>\n",
       "    </tr>\n",
       "    <tr>\n",
       "      <th>Medicine_Type</th>\n",
       "      <th></th>\n",
       "      <th></th>\n",
       "    </tr>\n",
       "  </thead>\n",
       "  <tbody>\n",
       "    <tr>\n",
       "      <th>Analgesics</th>\n",
       "      <td>0.16</td>\n",
       "      <td>0.84</td>\n",
       "    </tr>\n",
       "    <tr>\n",
       "      <th>Antacids</th>\n",
       "      <td>0.47</td>\n",
       "      <td>0.53</td>\n",
       "    </tr>\n",
       "    <tr>\n",
       "      <th>Antibiotics</th>\n",
       "      <td>0.48</td>\n",
       "      <td>0.52</td>\n",
       "    </tr>\n",
       "    <tr>\n",
       "      <th>Antifungal</th>\n",
       "      <td>0.44</td>\n",
       "      <td>0.56</td>\n",
       "    </tr>\n",
       "    <tr>\n",
       "      <th>Antimalarial</th>\n",
       "      <td>0.59</td>\n",
       "      <td>0.41</td>\n",
       "    </tr>\n",
       "    <tr>\n",
       "      <th>Antipyretics</th>\n",
       "      <td>0.38</td>\n",
       "      <td>0.62</td>\n",
       "    </tr>\n",
       "    <tr>\n",
       "      <th>Antiseptics</th>\n",
       "      <td>0.00</td>\n",
       "      <td>1.00</td>\n",
       "    </tr>\n",
       "    <tr>\n",
       "      <th>Antiviral</th>\n",
       "      <td>0.41</td>\n",
       "      <td>0.59</td>\n",
       "    </tr>\n",
       "    <tr>\n",
       "      <th>Cardiac</th>\n",
       "      <td>0.48</td>\n",
       "      <td>0.52</td>\n",
       "    </tr>\n",
       "    <tr>\n",
       "      <th>Hreplacements</th>\n",
       "      <td>0.41</td>\n",
       "      <td>0.59</td>\n",
       "    </tr>\n",
       "    <tr>\n",
       "      <th>Mstablizers</th>\n",
       "      <td>0.48</td>\n",
       "      <td>0.52</td>\n",
       "    </tr>\n",
       "    <tr>\n",
       "      <th>MuscleRelaxants</th>\n",
       "      <td>0.00</td>\n",
       "      <td>1.00</td>\n",
       "    </tr>\n",
       "    <tr>\n",
       "      <th>OralContraceptives</th>\n",
       "      <td>0.48</td>\n",
       "      <td>0.52</td>\n",
       "    </tr>\n",
       "    <tr>\n",
       "      <th>Statins</th>\n",
       "      <td>0.00</td>\n",
       "      <td>1.00</td>\n",
       "    </tr>\n",
       "    <tr>\n",
       "      <th>Stimulants</th>\n",
       "      <td>0.62</td>\n",
       "      <td>0.38</td>\n",
       "    </tr>\n",
       "    <tr>\n",
       "      <th>Tranquilizers</th>\n",
       "      <td>0.00</td>\n",
       "      <td>1.00</td>\n",
       "    </tr>\n",
       "  </tbody>\n",
       "</table>\n",
       "</div>"
      ],
      "text/plain": [
       "SidEffect_Level     critical  mild\n",
       "Medicine_Type                     \n",
       "Analgesics              0.16  0.84\n",
       "Antacids                0.47  0.53\n",
       "Antibiotics             0.48  0.52\n",
       "Antifungal              0.44  0.56\n",
       "Antimalarial            0.59  0.41\n",
       "Antipyretics            0.38  0.62\n",
       "Antiseptics             0.00  1.00\n",
       "Antiviral               0.41  0.59\n",
       "Cardiac                 0.48  0.52\n",
       "Hreplacements           0.41  0.59\n",
       "Mstablizers             0.48  0.52\n",
       "MuscleRelaxants         0.00  1.00\n",
       "OralContraceptives      0.48  0.52\n",
       "Statins                 0.00  1.00\n",
       "Stimulants              0.62  0.38\n",
       "Tranquilizers           0.00  1.00"
      ]
     },
     "execution_count": 22,
     "metadata": {
      "tags": []
     },
     "output_type": "execute_result"
    }
   ],
   "source": [
    "pd.crosstab(index=train_data['Medicine_Type'], columns=train_data['SidEffect_Level'], normalize='index').round(2)"
   ]
  },
  {
   "cell_type": "markdown",
   "metadata": {
    "colab_type": "text",
    "id": "LoIGFupNP_vB"
   },
   "source": [
    "Tranquilizers, MuscleRelaxants, Antiseptics, Statins do not have severe side-effect"
   ]
  },
  {
   "cell_type": "code",
   "execution_count": 0,
   "metadata": {
    "colab": {
     "base_uri": "https://localhost:8080/",
     "height": 299
    },
    "colab_type": "code",
    "id": "_-7GQhPNTDBV",
    "outputId": "5d67f58c-4630-41c5-c611-145b8361a8e8"
   },
   "outputs": [
    {
     "data": {
      "text/plain": [
       "<matplotlib.axes._subplots.AxesSubplot at 0x7f04350bfda0>"
      ]
     },
     "execution_count": 94,
     "metadata": {
      "tags": []
     },
     "output_type": "execute_result"
    },
    {
     "data": {
      "image/png": "[encoded data removed]",
      "text/plain": [
       "<Figure size 432x288 with 1 Axes>"
      ]
     },
     "metadata": {
      "tags": []
     },
     "output_type": "display_data"
    }
   ],
   "source": [
    "sns.countplot(train_data['Area_Type'])"
   ]
  },
  {
   "cell_type": "code",
   "execution_count": 0,
   "metadata": {
    "colab": {
     "base_uri": "https://localhost:8080/",
     "height": 299
    },
    "colab_type": "code",
    "id": "ptdbVfB5UtPW",
    "outputId": "0e918b73-1aac-4bb7-9d88-85be3343a578"
   },
   "outputs": [
    {
     "data": {
      "text/plain": [
       "<matplotlib.axes._subplots.AxesSubplot at 0x7f04353338d0>"
      ]
     },
     "execution_count": 97,
     "metadata": {
      "tags": []
     },
     "output_type": "execute_result"
    },
    {
     "data": {
      "image/png": "[encoded data removed]",
      "text/plain": [
       "<Figure size 432x288 with 1 Axes>"
      ]
     },
     "metadata": {
      "tags": []
     },
     "output_type": "display_data"
    }
   ],
   "source": [
    "sns.countplot(train_data['Area_City_Type'])"
   ]
  },
  {
   "cell_type": "code",
   "execution_count": 0,
   "metadata": {
    "colab": {
     "base_uri": "https://localhost:8080/",
     "height": 241
    },
    "colab_type": "code",
    "id": "kwdLKojGCQGz",
    "outputId": "3fd0b51f-1855-4f98-d50a-f80e3dedb61c"
   },
   "outputs": [
    {
     "name": "stdout",
     "output_type": "stream",
     "text": [
      "Area_dist_level\n",
      "High       2407.024123\n",
      "Medium     2775.051246\n",
      "Small      1998.408849\n",
      "Unknown    1950.354460\n",
      "Name: Counterfeit_Sales, dtype: float64\n",
      "Area_dist_level\n",
      "High       153.417128\n",
      "Medium     151.120029\n",
      "Small      151.564248\n",
      "Unknown    150.780613\n",
      "Name: Medicine_MRP, dtype: float64\n"
     ]
    }
   ],
   "source": [
    "group = train_data.groupby('Area_dist_level')\n",
    "x = group['Counterfeit_Sales'].agg(np.mean)\n",
    "y = group['Medicine_MRP'].agg(np.mean)\n",
    "print(x)\n",
    "print(y)"
   ]
  },
  {
   "cell_type": "markdown",
   "metadata": {
    "colab_type": "text",
    "id": "xN5cTUjTCsJQ"
   },
   "source": [
    "District Level = High,  have MRP Price High"
   ]
  },
  {
   "cell_type": "code",
   "execution_count": 0,
   "metadata": {
    "colab": {},
    "colab_type": "code",
    "id": "y4fNqqh6my_c"
   },
   "outputs": [],
   "source": [
    "#Dropping unnecessary features\n",
    "file.drop(columns=['Medicine_ID'], inplace=True, axis=1)"
   ]
  },
  {
   "cell_type": "code",
   "execution_count": 50,
   "metadata": {
    "colab": {
     "base_uri": "https://localhost:8080/",
     "height": 104
    },
    "colab_type": "code",
    "id": "nkwrCfGsnv4l",
    "outputId": "200d5166-88ce-41a1-963a-df9063a496b5"
   },
   "outputs": [
    {
     "data": {
      "text/plain": [
       "Index(['Active_Since', 'Area_City_Type', 'Area_Type', 'Area_dist_level',\n",
       "       'Availability_rating', 'Counterfeit_Sales', 'Counterfeit_Weight',\n",
       "       'DistArea_ID', 'Medicine_MRP', 'Medicine_Type', 'SidEffect_Level',\n",
       "       'data'],\n",
       "      dtype='object')"
      ]
     },
     "execution_count": 50,
     "metadata": {
      "tags": []
     },
     "output_type": "execute_result"
    }
   ],
   "source": [
    "file.columns"
   ]
  },
  {
   "cell_type": "code",
   "execution_count": 51,
   "metadata": {
    "colab": {
     "base_uri": "https://localhost:8080/",
     "height": 69
    },
    "colab_type": "code",
    "id": "9Dm1Lm8Ln2yG",
    "outputId": "278cd953-5c20-40b9-9571-0409bd49c074"
   },
   "outputs": [
    {
     "name": "stdout",
     "output_type": "stream",
     "text": [
      "Index(['Area_City_Type', 'Area_Type', 'Area_dist_level', 'DistArea_ID',\n",
      "       'Medicine_Type', 'SidEffect_Level'],\n",
      "      dtype='object')\n"
     ]
    }
   ],
   "source": [
    "#Dealing with Categorical Features\n",
    "\n",
    "cat_cols = file.select_dtypes(include='object').columns[:-1]\n",
    "print(cat_cols)"
   ]
  },
  {
   "cell_type": "code",
   "execution_count": 0,
   "metadata": {
    "colab": {},
    "colab_type": "code",
    "id": "LRQt1CM1rJUl"
   },
   "outputs": [],
   "source": [
    "#Custom create_dummies function\n",
    "def Create_Dummies(file,cat_cols):\n",
    "    for col in cat_cols:\n",
    "        freqs=file[col].value_counts()\n",
    "        k=freqs.index[freqs>50][:-1]\n",
    "        for cat in k:\n",
    "            name=col+'_'+cat\n",
    "            file[name]=(file[col]==cat).astype(int)\n",
    "        del file[col]\n",
    "        print(col)"
   ]
  },
  {
   "cell_type": "code",
   "execution_count": 53,
   "metadata": {
    "colab": {
     "base_uri": "https://localhost:8080/",
     "height": 121
    },
    "colab_type": "code",
    "id": "VQMxxQehSkkb",
    "outputId": "f0ac636f-2cc3-44df-c12d-01db3948f5cd"
   },
   "outputs": [
    {
     "name": "stdout",
     "output_type": "stream",
     "text": [
      "Area_City_Type\n",
      "Area_Type\n",
      "Area_dist_level\n",
      "DistArea_ID\n",
      "Medicine_Type\n",
      "SidEffect_Level\n"
     ]
    }
   ],
   "source": [
    "Create_Dummies(file,cat_cols)"
   ]
  },
  {
   "cell_type": "code",
   "execution_count": 54,
   "metadata": {
    "colab": {
     "base_uri": "https://localhost:8080/",
     "height": 35
    },
    "colab_type": "code",
    "id": "aWsgWjrdr00m",
    "outputId": "aa0fe93c-12de-433a-f688-fd1f8775a715"
   },
   "outputs": [
    {
     "data": {
      "text/plain": [
       "(8523, 39)"
      ]
     },
     "execution_count": 54,
     "metadata": {
      "tags": []
     },
     "output_type": "execute_result"
    }
   ],
   "source": [
    "file.shape"
   ]
  },
  {
   "cell_type": "code",
   "execution_count": 55,
   "metadata": {
    "colab": {
     "base_uri": "https://localhost:8080/",
     "height": 239
    },
    "colab_type": "code",
    "id": "ylUN6i0Lr4Jt",
    "outputId": "2a849995-676e-4f2d-bd74-fa411fa4874a"
   },
   "outputs": [
    {
     "data": {
      "text/html": [
       "<div>\n",
       "<style scoped>\n",
       "    .dataframe tbody tr th:only-of-type {\n",
       "        vertical-align: middle;\n",
       "    }\n",
       "\n",
       "    .dataframe tbody tr th {\n",
       "        vertical-align: top;\n",
       "    }\n",
       "\n",
       "    .dataframe thead th {\n",
       "        text-align: right;\n",
       "    }\n",
       "</style>\n",
       "<table border=\"1\" class=\"dataframe\">\n",
       "  <thead>\n",
       "    <tr style=\"text-align: right;\">\n",
       "      <th></th>\n",
       "      <th>Active_Since</th>\n",
       "      <th>Availability_rating</th>\n",
       "      <th>Counterfeit_Sales</th>\n",
       "      <th>Counterfeit_Weight</th>\n",
       "      <th>Medicine_MRP</th>\n",
       "      <th>data</th>\n",
       "      <th>Area_City_Type_Tier 3</th>\n",
       "      <th>Area_City_Type_Tier 2</th>\n",
       "      <th>Area_Type_DownTown</th>\n",
       "      <th>Area_Type_MidTownResidential</th>\n",
       "      <th>Area_Type_CityLimits</th>\n",
       "      <th>Area_dist_level_Medium</th>\n",
       "      <th>Area_dist_level_Unknown</th>\n",
       "      <th>Area_dist_level_Small</th>\n",
       "      <th>DistArea_ID_Area027</th>\n",
       "      <th>DistArea_ID_Area013</th>\n",
       "      <th>DistArea_ID_Area049</th>\n",
       "      <th>DistArea_ID_Area046</th>\n",
       "      <th>DistArea_ID_Area035</th>\n",
       "      <th>DistArea_ID_Area045</th>\n",
       "      <th>DistArea_ID_Area018</th>\n",
       "      <th>DistArea_ID_Area017</th>\n",
       "      <th>DistArea_ID_Area010</th>\n",
       "      <th>Medicine_Type_Antibiotics</th>\n",
       "      <th>Medicine_Type_Hreplacements</th>\n",
       "      <th>Medicine_Type_Antiseptics</th>\n",
       "      <th>Medicine_Type_OralContraceptives</th>\n",
       "      <th>Medicine_Type_Antipyretics</th>\n",
       "      <th>Medicine_Type_Cardiac</th>\n",
       "      <th>Medicine_Type_Mstablizers</th>\n",
       "      <th>Medicine_Type_Tranquilizers</th>\n",
       "      <th>Medicine_Type_Analgesics</th>\n",
       "      <th>Medicine_Type_Antimalarial</th>\n",
       "      <th>Medicine_Type_Antacids</th>\n",
       "      <th>Medicine_Type_Statins</th>\n",
       "      <th>Medicine_Type_MuscleRelaxants</th>\n",
       "      <th>Medicine_Type_Antifungal</th>\n",
       "      <th>Medicine_Type_Stimulants</th>\n",
       "      <th>SidEffect_Level_mild</th>\n",
       "    </tr>\n",
       "  </thead>\n",
       "  <tbody>\n",
       "    <tr>\n",
       "      <th>0</th>\n",
       "      <td>1995</td>\n",
       "      <td>0.070422</td>\n",
       "      <td>1775.5026</td>\n",
       "      <td>13.100000</td>\n",
       "      <td>160.2366</td>\n",
       "      <td>train</td>\n",
       "      <td>0</td>\n",
       "      <td>0</td>\n",
       "      <td>1</td>\n",
       "      <td>0</td>\n",
       "      <td>0</td>\n",
       "      <td>0</td>\n",
       "      <td>0</td>\n",
       "      <td>1</td>\n",
       "      <td>0</td>\n",
       "      <td>0</td>\n",
       "      <td>0</td>\n",
       "      <td>1</td>\n",
       "      <td>0</td>\n",
       "      <td>0</td>\n",
       "      <td>0</td>\n",
       "      <td>0</td>\n",
       "      <td>0</td>\n",
       "      <td>0</td>\n",
       "      <td>0</td>\n",
       "      <td>0</td>\n",
       "      <td>0</td>\n",
       "      <td>0</td>\n",
       "      <td>0</td>\n",
       "      <td>0</td>\n",
       "      <td>0</td>\n",
       "      <td>0</td>\n",
       "      <td>1</td>\n",
       "      <td>0</td>\n",
       "      <td>0</td>\n",
       "      <td>0</td>\n",
       "      <td>0</td>\n",
       "      <td>0</td>\n",
       "      <td>0</td>\n",
       "    </tr>\n",
       "    <tr>\n",
       "      <th>1</th>\n",
       "      <td>1983</td>\n",
       "      <td>0.013000</td>\n",
       "      <td>3069.1520</td>\n",
       "      <td>14.157645</td>\n",
       "      <td>110.4384</td>\n",
       "      <td>train</td>\n",
       "      <td>1</td>\n",
       "      <td>0</td>\n",
       "      <td>0</td>\n",
       "      <td>0</td>\n",
       "      <td>1</td>\n",
       "      <td>1</td>\n",
       "      <td>0</td>\n",
       "      <td>0</td>\n",
       "      <td>1</td>\n",
       "      <td>0</td>\n",
       "      <td>0</td>\n",
       "      <td>0</td>\n",
       "      <td>0</td>\n",
       "      <td>0</td>\n",
       "      <td>0</td>\n",
       "      <td>0</td>\n",
       "      <td>0</td>\n",
       "      <td>0</td>\n",
       "      <td>0</td>\n",
       "      <td>0</td>\n",
       "      <td>0</td>\n",
       "      <td>0</td>\n",
       "      <td>0</td>\n",
       "      <td>1</td>\n",
       "      <td>0</td>\n",
       "      <td>0</td>\n",
       "      <td>0</td>\n",
       "      <td>0</td>\n",
       "      <td>0</td>\n",
       "      <td>0</td>\n",
       "      <td>0</td>\n",
       "      <td>0</td>\n",
       "      <td>1</td>\n",
       "    </tr>\n",
       "    <tr>\n",
       "      <th>2</th>\n",
       "      <td>1995</td>\n",
       "      <td>0.060783</td>\n",
       "      <td>2603.0920</td>\n",
       "      <td>9.025000</td>\n",
       "      <td>259.4092</td>\n",
       "      <td>train</td>\n",
       "      <td>0</td>\n",
       "      <td>0</td>\n",
       "      <td>1</td>\n",
       "      <td>0</td>\n",
       "      <td>0</td>\n",
       "      <td>0</td>\n",
       "      <td>0</td>\n",
       "      <td>1</td>\n",
       "      <td>0</td>\n",
       "      <td>0</td>\n",
       "      <td>0</td>\n",
       "      <td>1</td>\n",
       "      <td>0</td>\n",
       "      <td>0</td>\n",
       "      <td>0</td>\n",
       "      <td>0</td>\n",
       "      <td>0</td>\n",
       "      <td>0</td>\n",
       "      <td>0</td>\n",
       "      <td>0</td>\n",
       "      <td>0</td>\n",
       "      <td>0</td>\n",
       "      <td>1</td>\n",
       "      <td>0</td>\n",
       "      <td>0</td>\n",
       "      <td>0</td>\n",
       "      <td>0</td>\n",
       "      <td>0</td>\n",
       "      <td>0</td>\n",
       "      <td>0</td>\n",
       "      <td>0</td>\n",
       "      <td>0</td>\n",
       "      <td>1</td>\n",
       "    </tr>\n",
       "    <tr>\n",
       "      <th>3</th>\n",
       "      <td>1995</td>\n",
       "      <td>0.065555</td>\n",
       "      <td>1101.7130</td>\n",
       "      <td>11.800000</td>\n",
       "      <td>99.9830</td>\n",
       "      <td>train</td>\n",
       "      <td>0</td>\n",
       "      <td>0</td>\n",
       "      <td>1</td>\n",
       "      <td>0</td>\n",
       "      <td>0</td>\n",
       "      <td>0</td>\n",
       "      <td>0</td>\n",
       "      <td>1</td>\n",
       "      <td>0</td>\n",
       "      <td>0</td>\n",
       "      <td>0</td>\n",
       "      <td>1</td>\n",
       "      <td>0</td>\n",
       "      <td>0</td>\n",
       "      <td>0</td>\n",
       "      <td>0</td>\n",
       "      <td>0</td>\n",
       "      <td>0</td>\n",
       "      <td>0</td>\n",
       "      <td>0</td>\n",
       "      <td>1</td>\n",
       "      <td>0</td>\n",
       "      <td>0</td>\n",
       "      <td>0</td>\n",
       "      <td>0</td>\n",
       "      <td>0</td>\n",
       "      <td>0</td>\n",
       "      <td>0</td>\n",
       "      <td>0</td>\n",
       "      <td>0</td>\n",
       "      <td>0</td>\n",
       "      <td>0</td>\n",
       "      <td>1</td>\n",
       "    </tr>\n",
       "    <tr>\n",
       "      <th>4</th>\n",
       "      <td>1983</td>\n",
       "      <td>0.248859</td>\n",
       "      <td>158.9402</td>\n",
       "      <td>14.157645</td>\n",
       "      <td>56.4402</td>\n",
       "      <td>train</td>\n",
       "      <td>0</td>\n",
       "      <td>0</td>\n",
       "      <td>0</td>\n",
       "      <td>1</td>\n",
       "      <td>0</td>\n",
       "      <td>0</td>\n",
       "      <td>0</td>\n",
       "      <td>1</td>\n",
       "      <td>0</td>\n",
       "      <td>0</td>\n",
       "      <td>0</td>\n",
       "      <td>0</td>\n",
       "      <td>0</td>\n",
       "      <td>0</td>\n",
       "      <td>0</td>\n",
       "      <td>0</td>\n",
       "      <td>0</td>\n",
       "      <td>0</td>\n",
       "      <td>1</td>\n",
       "      <td>0</td>\n",
       "      <td>0</td>\n",
       "      <td>0</td>\n",
       "      <td>0</td>\n",
       "      <td>0</td>\n",
       "      <td>0</td>\n",
       "      <td>0</td>\n",
       "      <td>0</td>\n",
       "      <td>0</td>\n",
       "      <td>0</td>\n",
       "      <td>0</td>\n",
       "      <td>0</td>\n",
       "      <td>0</td>\n",
       "      <td>0</td>\n",
       "    </tr>\n",
       "  </tbody>\n",
       "</table>\n",
       "</div>"
      ],
      "text/plain": [
       "   Active_Since  ...  SidEffect_Level_mild\n",
       "0          1995  ...                     0\n",
       "1          1983  ...                     1\n",
       "2          1995  ...                     1\n",
       "3          1995  ...                     1\n",
       "4          1983  ...                     0\n",
       "\n",
       "[5 rows x 39 columns]"
      ]
     },
     "execution_count": 55,
     "metadata": {
      "tags": []
     },
     "output_type": "execute_result"
    }
   ],
   "source": [
    "file.head()"
   ]
  },
  {
   "cell_type": "code",
   "execution_count": 56,
   "metadata": {
    "colab": {
     "base_uri": "https://localhost:8080/",
     "height": 52
    },
    "colab_type": "code",
    "id": "DewY1jlgdGSy",
    "outputId": "b93abc43-a585-4c3c-a13f-43b6dcbf0926"
   },
   "outputs": [
    {
     "name": "stdout",
     "output_type": "stream",
     "text": [
      "(6818, 38)\n",
      "(1705, 37)\n"
     ]
    }
   ],
   "source": [
    "#Seperating train and test data\n",
    "\n",
    "train_file = file[file['data'] == 'train']\n",
    "\n",
    "\n",
    "test_file = file[file['data'] == 'test']\n",
    "\n",
    "\n",
    "#Dropping additional Columns\n",
    "\n",
    "train_file.drop(columns='data', axis=1, inplace=True)\n",
    "test_file.drop(columns=['data', 'Counterfeit_Sales'], axis=1, inplace = True)\n",
    "\n",
    "print(train_file.shape)\n",
    "print(test_file.shape)"
   ]
  },
  {
   "cell_type": "code",
   "execution_count": 57,
   "metadata": {
    "colab": {
     "base_uri": "https://localhost:8080/",
     "height": 52
    },
    "colab_type": "code",
    "id": "bfMHQBPyrbV-",
    "outputId": "dd304642-d7c7-4716-a2e3-eb3c0cceeb5e"
   },
   "outputs": [
    {
     "name": "stdout",
     "output_type": "stream",
     "text": [
      "(5454, 38)\n",
      "(1364, 38)\n"
     ]
    }
   ],
   "source": [
    "#split datset into 80% training and 20% test for validation\n",
    "\n",
    "training_data, validation_data = train_test_split(train_file,test_size=0.2,random_state=10)\n",
    "print(training_data.shape)\n",
    "print(validation_data.shape)"
   ]
  },
  {
   "cell_type": "code",
   "execution_count": 0,
   "metadata": {
    "colab": {},
    "colab_type": "code",
    "id": "97ISavoBtUEH"
   },
   "outputs": [],
   "source": [
    "#Getting the files to fit the model\n",
    "\n",
    "xtrain = training_data.drop('Counterfeit_Sales', axis=1)\n",
    "ytrain = training_data['Counterfeit_Sales']\n",
    "\n"
   ]
  },
  {
   "cell_type": "code",
   "execution_count": 18,
   "metadata": {
    "colab": {},
    "colab_type": "code",
    "id": "SHtowW3EcJQw"
   },
   "outputs": [],
   "source": [
    "#Custom class to implement a regression model\n",
    "\n",
    "class rg_model():\n",
    "    \n",
    "    def __init__(self, clf, features, target):\n",
    "        \n",
    "        '''Initialize the model and data'''\n",
    "        \n",
    "        self.clf = clf\n",
    "        self.features = features\n",
    "        self.target = target\n",
    "    \n",
    "    def fit_model(self):\n",
    "        \n",
    "        '''This function fits the and returns the fitted model'''\n",
    "        \n",
    "        return self.clf.fit(self.features, self.target)\n",
    "    \n",
    "    def grid_search(self,params,cv,metric):\n",
    "        \n",
    "        '''This function implements GridSearchCV and returns the best estimator'''\n",
    "        \n",
    "        grid_search=GridSearchCV(self.clf,param_grid=params,cv=cv,scoring=metric,verbose=1)\n",
    "        grid_search=grid_search.fit(self.features, self.target)\n",
    "        return grid_search.best_estimator_\n",
    "\n",
    "    def make_predictions(self,fitted_model,test):\n",
    "        \n",
    "        '''\n",
    "        This function returns the predictions\n",
    "        Parameters:\n",
    "        \n",
    "        # fitted_model : trained model\n",
    "        # test : testing data for making predictions\n",
    "        '''\n",
    "        \n",
    "        return fitted_model.predict(test)\n",
    "\n",
    "    def evaluate_model_performance(self,predicted_values):\n",
    "        \n",
    "        '''This function returns the mean absolute error value\n",
    "        Parameters:\n",
    "        \n",
    "        # predicted_values needs to be sent as a parameter\n",
    "        '''\n",
    "        mae = mean_absolute_error(validation_data['Counterfeit_Sales'],predicted_values)\n",
    "        return 'MEAN ABSOLUTE ERROR is {}'.format(mae)\n"
   ]
  },
  {
   "cell_type": "markdown",
   "metadata": {
    "colab_type": "text",
    "id": "9QW7rZiqSklE"
   },
   "source": [
    "# Linear Regression"
   ]
  },
  {
   "cell_type": "code",
   "execution_count": null,
   "metadata": {
    "colab": {},
    "colab_type": "code",
    "id": "1M4i8ONFgiRh"
   },
   "outputs": [],
   "source": [
    "#Create an object\n",
    "model = rg_model(LinearRegression(),xtrain,ytrain)"
   ]
  },
  {
   "cell_type": "code",
   "execution_count": 83,
   "metadata": {
    "colab": {
     "base_uri": "https://localhost:8080/",
     "height": 35
    },
    "colab_type": "code",
    "id": "YO9BV3CQgs-I",
    "outputId": "dacf8297-393e-42d6-d2bb-576c55a690c9"
   },
   "outputs": [
    {
     "data": {
      "text/plain": [
       "LinearRegression(copy_X=True, fit_intercept=True, n_jobs=None, normalize=False)"
      ]
     },
     "execution_count": 83,
     "metadata": {
      "tags": []
     },
     "output_type": "execute_result"
    }
   ],
   "source": [
    "lm = model.fit_model()\n",
    "lm"
   ]
  },
  {
   "cell_type": "code",
   "execution_count": 0,
   "metadata": {
    "colab": {},
    "colab_type": "code",
    "id": "El-KOKoNgy2W"
   },
   "outputs": [],
   "source": [
    "predicted_values = model.make_predictions(lm, validation_data.drop('Counterfeit_Sales', axis=1))"
   ]
  },
  {
   "cell_type": "code",
   "execution_count": 85,
   "metadata": {
    "colab": {
     "base_uri": "https://localhost:8080/",
     "height": 35
    },
    "colab_type": "code",
    "id": "0l0bdE4dhJpR",
    "outputId": "06f1d29e-19e1-4acd-fc7c-77665303620c"
   },
   "outputs": [
    {
     "data": {
      "text/plain": [
       "'MEAN ABSOLUTE ERROR is 814.9841542841501'"
      ]
     },
     "execution_count": 85,
     "metadata": {
      "tags": []
     },
     "output_type": "execute_result"
    }
   ],
   "source": [
    "model.evaluate_model_performance(predicted_values)"
   ]
  },
  {
   "cell_type": "markdown",
   "metadata": {
    "colab_type": "text",
    "id": "S6ydxuc9iDgi"
   },
   "source": [
    "# Ridge Regression"
   ]
  },
  {
   "cell_type": "code",
   "execution_count": 0,
   "metadata": {
    "colab": {},
    "colab_type": "code",
    "id": "ZDOqKfn83nMA"
   },
   "outputs": [],
   "source": [
    "#lambdas=np.linspace(1,100,100)\n",
    "lambdas=np.linspace(88,89,10)"
   ]
  },
  {
   "cell_type": "code",
   "execution_count": 0,
   "metadata": {
    "colab": {},
    "colab_type": "code",
    "id": "x9GjliD83pPS"
   },
   "outputs": [],
   "source": [
    "params={'alpha':lambdas}"
   ]
  },
  {
   "cell_type": "code",
   "execution_count": 0,
   "metadata": {
    "colab": {},
    "colab_type": "code",
    "id": "bd8y-ouRiLaM"
   },
   "outputs": [],
   "source": [
    "ridge_model = rg_model(Ridge(fit_intercept=True), xtrain, ytrain)"
   ]
  },
  {
   "cell_type": "code",
   "execution_count": 105,
   "metadata": {
    "colab": {
     "base_uri": "https://localhost:8080/",
     "height": 104
    },
    "colab_type": "code",
    "id": "jyh2SRijir6Q",
    "outputId": "1bf07b5f-101a-4014-b59e-19c85109616b"
   },
   "outputs": [
    {
     "name": "stdout",
     "output_type": "stream",
     "text": [
      "Fitting 10 folds for each of 10 candidates, totalling 100 fits\n"
     ]
    },
    {
     "name": "stderr",
     "output_type": "stream",
     "text": [
      "[Parallel(n_jobs=1)]: Using backend SequentialBackend with 1 concurrent workers.\n",
      "[Parallel(n_jobs=1)]: Done 100 out of 100 | elapsed:    0.7s finished\n"
     ]
    },
    {
     "data": {
      "text/plain": [
       "Ridge(alpha=89.0, copy_X=True, fit_intercept=True, max_iter=None,\n",
       "      normalize=False, random_state=None, solver='auto', tol=0.001)"
      ]
     },
     "execution_count": 105,
     "metadata": {
      "tags": []
     },
     "output_type": "execute_result"
    }
   ],
   "source": [
    "model =  ridge_model.grid_search(params,10,'neg_mean_absolute_error')\n",
    "model"
   ]
  },
  {
   "cell_type": "code",
   "execution_count": 0,
   "metadata": {
    "colab": {},
    "colab_type": "code",
    "id": "9PTscWwMjpB6"
   },
   "outputs": [],
   "source": [
    "predicted_values = ridge_model.make_predictions(model,validation_data.drop('Counterfeit_Sales', axis=1))"
   ]
  },
  {
   "cell_type": "code",
   "execution_count": 108,
   "metadata": {
    "colab": {
     "base_uri": "https://localhost:8080/",
     "height": 35
    },
    "colab_type": "code",
    "id": "sARjsya3khPf",
    "outputId": "f01a8deb-0b93-4ead-e32d-dc31a91b636d"
   },
   "outputs": [
    {
     "data": {
      "text/plain": [
       "'MEAN ABSOLUTE ERROR is 812.7648862959611'"
      ]
     },
     "execution_count": 108,
     "metadata": {
      "tags": []
     },
     "output_type": "execute_result"
    }
   ],
   "source": [
    "ridge_model.evaluate_model_performance(predicted_values)"
   ]
  },
  {
   "cell_type": "markdown",
   "metadata": {
    "colab_type": "text",
    "id": "H8wZ2y0iSkmI"
   },
   "source": [
    "# Lasso Regression"
   ]
  },
  {
   "cell_type": "code",
   "execution_count": 0,
   "metadata": {
    "colab": {},
    "colab_type": "code",
    "id": "GnJ7qHvj5KAq"
   },
   "outputs": [],
   "source": [
    "#lambdas=np.linspace(1,100,100)\n",
    "lambdas=np.linspace(11,12,100)\n",
    "params={'alpha':lambdas}"
   ]
  },
  {
   "cell_type": "code",
   "execution_count": 0,
   "metadata": {
    "colab": {},
    "colab_type": "code",
    "id": "ZXBkinnCk8BJ"
   },
   "outputs": [],
   "source": [
    "lasso_model = rg_model(Lasso(fit_intercept=True), xtrain, ytrain)"
   ]
  },
  {
   "cell_type": "code",
   "execution_count": 121,
   "metadata": {
    "colab": {
     "base_uri": "https://localhost:8080/",
     "height": 121
    },
    "colab_type": "code",
    "id": "9eVHBzq7lElo",
    "outputId": "1e22e9c3-0319-4172-a8a9-ebe38ee51c56"
   },
   "outputs": [
    {
     "name": "stdout",
     "output_type": "stream",
     "text": [
      "Fitting 10 folds for each of 100 candidates, totalling 1000 fits\n"
     ]
    },
    {
     "name": "stderr",
     "output_type": "stream",
     "text": [
      "[Parallel(n_jobs=1)]: Using backend SequentialBackend with 1 concurrent workers.\n",
      "[Parallel(n_jobs=1)]: Done 1000 out of 1000 | elapsed:    9.0s finished\n"
     ]
    },
    {
     "data": {
      "text/plain": [
       "Lasso(alpha=11.0, copy_X=True, fit_intercept=True, max_iter=1000,\n",
       "      normalize=False, positive=False, precompute=False, random_state=None,\n",
       "      selection='cyclic', tol=0.0001, warm_start=False)"
      ]
     },
     "execution_count": 121,
     "metadata": {
      "tags": []
     },
     "output_type": "execute_result"
    }
   ],
   "source": [
    "model = lasso_model.grid_search(params=params,cv=10,metric='neg_mean_absolute_error')\n",
    "model"
   ]
  },
  {
   "cell_type": "code",
   "execution_count": 0,
   "metadata": {
    "colab": {},
    "colab_type": "code",
    "id": "0tIfJIQkmLNh"
   },
   "outputs": [],
   "source": [
    "predicted_values=lasso_model.make_predictions(model, validation_data.drop('Counterfeit_Sales', axis=1))"
   ]
  },
  {
   "cell_type": "code",
   "execution_count": 123,
   "metadata": {
    "colab": {
     "base_uri": "https://localhost:8080/",
     "height": 35
    },
    "colab_type": "code",
    "id": "9kGzQeiImVx5",
    "outputId": "0889250d-cb55-49ec-a3de-ce1e1766bc1c"
   },
   "outputs": [
    {
     "data": {
      "text/plain": [
       "'MEAN ABSOLUTE ERROR is 808.9139069064713'"
      ]
     },
     "execution_count": 123,
     "metadata": {
      "tags": []
     },
     "output_type": "execute_result"
    }
   ],
   "source": [
    "lasso_model.evaluate_model_performance(predicted_values)"
   ]
  },
  {
   "cell_type": "markdown",
   "metadata": {
    "colab_type": "text",
    "id": "19g_FzQ-Skm9"
   },
   "source": [
    "# Random Forest Regressor"
   ]
  },
  {
   "cell_type": "code",
   "execution_count": 124,
   "metadata": {
    "colab": {
     "base_uri": "https://localhost:8080/",
     "height": 121
    },
    "colab_type": "code",
    "id": "RcrXzQUtEgbq",
    "outputId": "aed4c747-9047-49ee-bc1e-38c178ecee14"
   },
   "outputs": [
    {
     "data": {
      "text/plain": [
       "{'bootstrap': [True, False],\n",
       " 'max_depth': [10, 20, 30, 40, 50, 60, 70, 80, 90, 100, 110, None],\n",
       " 'max_features': ['auto', 'sqrt'],\n",
       " 'min_samples_leaf': [1, 2, 4],\n",
       " 'min_samples_split': [2, 5, 10],\n",
       " 'n_estimators': [200, 400, 600, 800, 1000, 1200, 1400, 1600, 1800, 2000]}"
      ]
     },
     "execution_count": 124,
     "metadata": {
      "tags": []
     },
     "output_type": "execute_result"
    }
   ],
   "source": [
    "#Generating Random Parameters\n",
    "\n",
    "# Number of trees in random forest\n",
    "n_estimators = [int(x) for x in np.linspace(start = 200, stop = 2000, num = 10)]\n",
    "\n",
    "# Number of features to consider at every split\n",
    "max_features = ['auto', 'sqrt']\n",
    "\n",
    "# Maximum number of levels in tree\n",
    "max_depth = [int(x) for x in np.linspace(10, 110, num = 11)]\n",
    "max_depth.append(None)\n",
    "\n",
    "# Minimum number of samples required to split a node\n",
    "min_samples_split = [2, 5, 10]\n",
    "\n",
    "# Minimum number of samples required at each leaf node\n",
    "min_samples_leaf = [1, 2, 4]\n",
    "\n",
    "# Method of selecting samples for training each tree\n",
    "bootstrap = [True, False]\n",
    "\n",
    "# Create the random grid\n",
    "random_grid = {'n_estimators': n_estimators,\n",
    "               'max_features': max_features,\n",
    "               'max_depth': max_depth,\n",
    "               'min_samples_split': min_samples_split,\n",
    "               'min_samples_leaf': min_samples_leaf,\n",
    "               'bootstrap': bootstrap}\n",
    "random_grid"
   ]
  },
  {
   "cell_type": "code",
   "execution_count": 126,
   "metadata": {
    "colab": {
     "base_uri": "https://localhost:8080/",
     "height": 1000
    },
    "colab_type": "code",
    "id": "RY8XAHxfslcr",
    "outputId": "5bdfb39d-a861-45fe-a15f-19ac2d477afb"
   },
   "outputs": [
    {
     "name": "stdout",
     "output_type": "stream",
     "text": [
      "Fitting 5 folds for each of 10 candidates, totalling 50 fits\n",
      "[CV] n_estimators=2000, min_samples_split=10, min_samples_leaf=1, max_features=auto, max_depth=80, bootstrap=True \n"
     ]
    },
    {
     "name": "stderr",
     "output_type": "stream",
     "text": [
      "[Parallel(n_jobs=1)]: Using backend SequentialBackend with 1 concurrent workers.\n"
     ]
    },
    {
     "name": "stdout",
     "output_type": "stream",
     "text": [
      "[CV]  n_estimators=2000, min_samples_split=10, min_samples_leaf=1, max_features=auto, max_depth=80, bootstrap=True, total=  34.4s\n",
      "[CV] n_estimators=2000, min_samples_split=10, min_samples_leaf=1, max_features=auto, max_depth=80, bootstrap=True \n"
     ]
    },
    {
     "name": "stderr",
     "output_type": "stream",
     "text": [
      "[Parallel(n_jobs=1)]: Done   1 out of   1 | elapsed:   34.4s remaining:    0.0s\n"
     ]
    },
    {
     "name": "stdout",
     "output_type": "stream",
     "text": [
      "[CV]  n_estimators=2000, min_samples_split=10, min_samples_leaf=1, max_features=auto, max_depth=80, bootstrap=True, total=  34.0s\n",
      "[CV] n_estimators=2000, min_samples_split=10, min_samples_leaf=1, max_features=auto, max_depth=80, bootstrap=True \n",
      "[CV]  n_estimators=2000, min_samples_split=10, min_samples_leaf=1, max_features=auto, max_depth=80, bootstrap=True, total=  34.0s\n",
      "[CV] n_estimators=2000, min_samples_split=10, min_samples_leaf=1, max_features=auto, max_depth=80, bootstrap=True \n",
      "[CV]  n_estimators=2000, min_samples_split=10, min_samples_leaf=1, max_features=auto, max_depth=80, bootstrap=True, total=  33.9s\n",
      "[CV] n_estimators=2000, min_samples_split=10, min_samples_leaf=1, max_features=auto, max_depth=80, bootstrap=True \n",
      "[CV]  n_estimators=2000, min_samples_split=10, min_samples_leaf=1, max_features=auto, max_depth=80, bootstrap=True, total=  33.5s\n",
      "[CV] n_estimators=1000, min_samples_split=10, min_samples_leaf=4, max_features=auto, max_depth=80, bootstrap=True \n",
      "[CV]  n_estimators=1000, min_samples_split=10, min_samples_leaf=4, max_features=auto, max_depth=80, bootstrap=True, total=  15.1s\n",
      "[CV] n_estimators=1000, min_samples_split=10, min_samples_leaf=4, max_features=auto, max_depth=80, bootstrap=True \n",
      "[CV]  n_estimators=1000, min_samples_split=10, min_samples_leaf=4, max_features=auto, max_depth=80, bootstrap=True, total=  14.9s\n",
      "[CV] n_estimators=1000, min_samples_split=10, min_samples_leaf=4, max_features=auto, max_depth=80, bootstrap=True \n",
      "[CV]  n_estimators=1000, min_samples_split=10, min_samples_leaf=4, max_features=auto, max_depth=80, bootstrap=True, total=  14.9s\n",
      "[CV] n_estimators=1000, min_samples_split=10, min_samples_leaf=4, max_features=auto, max_depth=80, bootstrap=True \n",
      "[CV]  n_estimators=1000, min_samples_split=10, min_samples_leaf=4, max_features=auto, max_depth=80, bootstrap=True, total=  14.9s\n",
      "[CV] n_estimators=1000, min_samples_split=10, min_samples_leaf=4, max_features=auto, max_depth=80, bootstrap=True \n",
      "[CV]  n_estimators=1000, min_samples_split=10, min_samples_leaf=4, max_features=auto, max_depth=80, bootstrap=True, total=  14.9s\n",
      "[CV] n_estimators=400, min_samples_split=10, min_samples_leaf=1, max_features=auto, max_depth=80, bootstrap=False \n",
      "[CV]  n_estimators=400, min_samples_split=10, min_samples_leaf=1, max_features=auto, max_depth=80, bootstrap=False, total=  11.0s\n",
      "[CV] n_estimators=400, min_samples_split=10, min_samples_leaf=1, max_features=auto, max_depth=80, bootstrap=False \n",
      "[CV]  n_estimators=400, min_samples_split=10, min_samples_leaf=1, max_features=auto, max_depth=80, bootstrap=False, total=  10.9s\n",
      "[CV] n_estimators=400, min_samples_split=10, min_samples_leaf=1, max_features=auto, max_depth=80, bootstrap=False \n",
      "[CV]  n_estimators=400, min_samples_split=10, min_samples_leaf=1, max_features=auto, max_depth=80, bootstrap=False, total=  10.9s\n",
      "[CV] n_estimators=400, min_samples_split=10, min_samples_leaf=1, max_features=auto, max_depth=80, bootstrap=False \n",
      "[CV]  n_estimators=400, min_samples_split=10, min_samples_leaf=1, max_features=auto, max_depth=80, bootstrap=False, total=  10.8s\n",
      "[CV] n_estimators=400, min_samples_split=10, min_samples_leaf=1, max_features=auto, max_depth=80, bootstrap=False \n",
      "[CV]  n_estimators=400, min_samples_split=10, min_samples_leaf=1, max_features=auto, max_depth=80, bootstrap=False, total=  10.6s\n",
      "[CV] n_estimators=200, min_samples_split=5, min_samples_leaf=1, max_features=sqrt, max_depth=70, bootstrap=True \n",
      "[CV]  n_estimators=200, min_samples_split=5, min_samples_leaf=1, max_features=sqrt, max_depth=70, bootstrap=True, total=   1.0s\n",
      "[CV] n_estimators=200, min_samples_split=5, min_samples_leaf=1, max_features=sqrt, max_depth=70, bootstrap=True \n",
      "[CV]  n_estimators=200, min_samples_split=5, min_samples_leaf=1, max_features=sqrt, max_depth=70, bootstrap=True, total=   1.0s\n",
      "[CV] n_estimators=200, min_samples_split=5, min_samples_leaf=1, max_features=sqrt, max_depth=70, bootstrap=True \n",
      "[CV]  n_estimators=200, min_samples_split=5, min_samples_leaf=1, max_features=sqrt, max_depth=70, bootstrap=True, total=   1.0s\n",
      "[CV] n_estimators=200, min_samples_split=5, min_samples_leaf=1, max_features=sqrt, max_depth=70, bootstrap=True \n",
      "[CV]  n_estimators=200, min_samples_split=5, min_samples_leaf=1, max_features=sqrt, max_depth=70, bootstrap=True, total=   1.0s\n",
      "[CV] n_estimators=200, min_samples_split=5, min_samples_leaf=1, max_features=sqrt, max_depth=70, bootstrap=True \n",
      "[CV]  n_estimators=200, min_samples_split=5, min_samples_leaf=1, max_features=sqrt, max_depth=70, bootstrap=True, total=   1.0s\n",
      "[CV] n_estimators=2000, min_samples_split=10, min_samples_leaf=1, max_features=auto, max_depth=None, bootstrap=True \n",
      "[CV]  n_estimators=2000, min_samples_split=10, min_samples_leaf=1, max_features=auto, max_depth=None, bootstrap=True, total=  34.2s\n",
      "[CV] n_estimators=2000, min_samples_split=10, min_samples_leaf=1, max_features=auto, max_depth=None, bootstrap=True \n",
      "[CV]  n_estimators=2000, min_samples_split=10, min_samples_leaf=1, max_features=auto, max_depth=None, bootstrap=True, total=  34.0s\n",
      "[CV] n_estimators=2000, min_samples_split=10, min_samples_leaf=1, max_features=auto, max_depth=None, bootstrap=True \n",
      "[CV]  n_estimators=2000, min_samples_split=10, min_samples_leaf=1, max_features=auto, max_depth=None, bootstrap=True, total=  33.8s\n",
      "[CV] n_estimators=2000, min_samples_split=10, min_samples_leaf=1, max_features=auto, max_depth=None, bootstrap=True \n",
      "[CV]  n_estimators=2000, min_samples_split=10, min_samples_leaf=1, max_features=auto, max_depth=None, bootstrap=True, total=  34.1s\n",
      "[CV] n_estimators=2000, min_samples_split=10, min_samples_leaf=1, max_features=auto, max_depth=None, bootstrap=True \n",
      "[CV]  n_estimators=2000, min_samples_split=10, min_samples_leaf=1, max_features=auto, max_depth=None, bootstrap=True, total=  33.6s\n",
      "[CV] n_estimators=200, min_samples_split=10, min_samples_leaf=4, max_features=auto, max_depth=90, bootstrap=True \n",
      "[CV]  n_estimators=200, min_samples_split=10, min_samples_leaf=4, max_features=auto, max_depth=90, bootstrap=True, total=   3.0s\n",
      "[CV] n_estimators=200, min_samples_split=10, min_samples_leaf=4, max_features=auto, max_depth=90, bootstrap=True \n",
      "[CV]  n_estimators=200, min_samples_split=10, min_samples_leaf=4, max_features=auto, max_depth=90, bootstrap=True, total=   3.0s\n",
      "[CV] n_estimators=200, min_samples_split=10, min_samples_leaf=4, max_features=auto, max_depth=90, bootstrap=True \n",
      "[CV]  n_estimators=200, min_samples_split=10, min_samples_leaf=4, max_features=auto, max_depth=90, bootstrap=True, total=   3.0s\n",
      "[CV] n_estimators=200, min_samples_split=10, min_samples_leaf=4, max_features=auto, max_depth=90, bootstrap=True \n",
      "[CV]  n_estimators=200, min_samples_split=10, min_samples_leaf=4, max_features=auto, max_depth=90, bootstrap=True, total=   3.0s\n",
      "[CV] n_estimators=200, min_samples_split=10, min_samples_leaf=4, max_features=auto, max_depth=90, bootstrap=True \n",
      "[CV]  n_estimators=200, min_samples_split=10, min_samples_leaf=4, max_features=auto, max_depth=90, bootstrap=True, total=   3.0s\n",
      "[CV] n_estimators=2000, min_samples_split=10, min_samples_leaf=2, max_features=sqrt, max_depth=110, bootstrap=True \n",
      "[CV]  n_estimators=2000, min_samples_split=10, min_samples_leaf=2, max_features=sqrt, max_depth=110, bootstrap=True, total=   8.3s\n",
      "[CV] n_estimators=2000, min_samples_split=10, min_samples_leaf=2, max_features=sqrt, max_depth=110, bootstrap=True \n",
      "[CV]  n_estimators=2000, min_samples_split=10, min_samples_leaf=2, max_features=sqrt, max_depth=110, bootstrap=True, total=   8.3s\n",
      "[CV] n_estimators=2000, min_samples_split=10, min_samples_leaf=2, max_features=sqrt, max_depth=110, bootstrap=True \n",
      "[CV]  n_estimators=2000, min_samples_split=10, min_samples_leaf=2, max_features=sqrt, max_depth=110, bootstrap=True, total=   8.1s\n",
      "[CV] n_estimators=2000, min_samples_split=10, min_samples_leaf=2, max_features=sqrt, max_depth=110, bootstrap=True \n",
      "[CV]  n_estimators=2000, min_samples_split=10, min_samples_leaf=2, max_features=sqrt, max_depth=110, bootstrap=True, total=   8.3s\n",
      "[CV] n_estimators=2000, min_samples_split=10, min_samples_leaf=2, max_features=sqrt, max_depth=110, bootstrap=True \n",
      "[CV]  n_estimators=2000, min_samples_split=10, min_samples_leaf=2, max_features=sqrt, max_depth=110, bootstrap=True, total=   8.2s\n",
      "[CV] n_estimators=600, min_samples_split=2, min_samples_leaf=4, max_features=auto, max_depth=None, bootstrap=True \n",
      "[CV]  n_estimators=600, min_samples_split=2, min_samples_leaf=4, max_features=auto, max_depth=None, bootstrap=True, total=   9.3s\n",
      "[CV] n_estimators=600, min_samples_split=2, min_samples_leaf=4, max_features=auto, max_depth=None, bootstrap=True \n",
      "[CV]  n_estimators=600, min_samples_split=2, min_samples_leaf=4, max_features=auto, max_depth=None, bootstrap=True, total=   9.3s\n",
      "[CV] n_estimators=600, min_samples_split=2, min_samples_leaf=4, max_features=auto, max_depth=None, bootstrap=True \n",
      "[CV]  n_estimators=600, min_samples_split=2, min_samples_leaf=4, max_features=auto, max_depth=None, bootstrap=True, total=   9.2s\n",
      "[CV] n_estimators=600, min_samples_split=2, min_samples_leaf=4, max_features=auto, max_depth=None, bootstrap=True \n",
      "[CV]  n_estimators=600, min_samples_split=2, min_samples_leaf=4, max_features=auto, max_depth=None, bootstrap=True, total=   9.2s\n",
      "[CV] n_estimators=600, min_samples_split=2, min_samples_leaf=4, max_features=auto, max_depth=None, bootstrap=True \n",
      "[CV]  n_estimators=600, min_samples_split=2, min_samples_leaf=4, max_features=auto, max_depth=None, bootstrap=True, total=   9.2s\n",
      "[CV] n_estimators=600, min_samples_split=5, min_samples_leaf=2, max_features=sqrt, max_depth=60, bootstrap=True \n",
      "[CV]  n_estimators=600, min_samples_split=5, min_samples_leaf=2, max_features=sqrt, max_depth=60, bootstrap=True, total=   2.7s\n",
      "[CV] n_estimators=600, min_samples_split=5, min_samples_leaf=2, max_features=sqrt, max_depth=60, bootstrap=True \n",
      "[CV]  n_estimators=600, min_samples_split=5, min_samples_leaf=2, max_features=sqrt, max_depth=60, bootstrap=True, total=   2.7s\n",
      "[CV] n_estimators=600, min_samples_split=5, min_samples_leaf=2, max_features=sqrt, max_depth=60, bootstrap=True \n",
      "[CV]  n_estimators=600, min_samples_split=5, min_samples_leaf=2, max_features=sqrt, max_depth=60, bootstrap=True, total=   2.7s\n",
      "[CV] n_estimators=600, min_samples_split=5, min_samples_leaf=2, max_features=sqrt, max_depth=60, bootstrap=True \n",
      "[CV]  n_estimators=600, min_samples_split=5, min_samples_leaf=2, max_features=sqrt, max_depth=60, bootstrap=True, total=   2.7s\n",
      "[CV] n_estimators=600, min_samples_split=5, min_samples_leaf=2, max_features=sqrt, max_depth=60, bootstrap=True \n",
      "[CV]  n_estimators=600, min_samples_split=5, min_samples_leaf=2, max_features=sqrt, max_depth=60, bootstrap=True, total=   2.7s\n",
      "[CV] n_estimators=1600, min_samples_split=5, min_samples_leaf=1, max_features=auto, max_depth=70, bootstrap=True \n",
      "[CV]  n_estimators=1600, min_samples_split=5, min_samples_leaf=1, max_features=auto, max_depth=70, bootstrap=True, total=  30.8s\n",
      "[CV] n_estimators=1600, min_samples_split=5, min_samples_leaf=1, max_features=auto, max_depth=70, bootstrap=True \n",
      "[CV]  n_estimators=1600, min_samples_split=5, min_samples_leaf=1, max_features=auto, max_depth=70, bootstrap=True, total=  31.0s\n",
      "[CV] n_estimators=1600, min_samples_split=5, min_samples_leaf=1, max_features=auto, max_depth=70, bootstrap=True \n",
      "[CV]  n_estimators=1600, min_samples_split=5, min_samples_leaf=1, max_features=auto, max_depth=70, bootstrap=True, total=  30.7s\n",
      "[CV] n_estimators=1600, min_samples_split=5, min_samples_leaf=1, max_features=auto, max_depth=70, bootstrap=True \n",
      "[CV]  n_estimators=1600, min_samples_split=5, min_samples_leaf=1, max_features=auto, max_depth=70, bootstrap=True, total=  30.7s\n",
      "[CV] n_estimators=1600, min_samples_split=5, min_samples_leaf=1, max_features=auto, max_depth=70, bootstrap=True \n",
      "[CV]  n_estimators=1600, min_samples_split=5, min_samples_leaf=1, max_features=auto, max_depth=70, bootstrap=True, total=  30.5s\n"
     ]
    },
    {
     "name": "stderr",
     "output_type": "stream",
     "text": [
      "[Parallel(n_jobs=1)]: Done  50 out of  50 | elapsed: 12.4min finished\n"
     ]
    },
    {
     "data": {
      "text/plain": [
       "RandomizedSearchCV(cv=5, error_score=nan,\n",
       "                   estimator=RandomForestRegressor(bootstrap=True,\n",
       "                                                   ccp_alpha=0.0,\n",
       "                                                   criterion='mse',\n",
       "                                                   max_depth=None,\n",
       "                                                   max_features='auto',\n",
       "                                                   max_leaf_nodes=None,\n",
       "                                                   max_samples=None,\n",
       "                                                   min_impurity_decrease=0.0,\n",
       "                                                   min_impurity_split=None,\n",
       "                                                   min_samples_leaf=1,\n",
       "                                                   min_samples_split=2,\n",
       "                                                   min_weight_fraction_leaf=0.0,\n",
       "                                                   n_estimators=100,\n",
       "                                                   n_jobs=None, oob_score=Fals...\n",
       "                   param_distributions={'bootstrap': [True, False],\n",
       "                                        'max_depth': [10, 20, 30, 40, 50, 60,\n",
       "                                                      70, 80, 90, 100, 110,\n",
       "                                                      None],\n",
       "                                        'max_features': ['auto', 'sqrt'],\n",
       "                                        'min_samples_leaf': [1, 2, 4],\n",
       "                                        'min_samples_split': [2, 5, 10],\n",
       "                                        'n_estimators': [200, 400, 600, 800,\n",
       "                                                         1000, 1200, 1400, 1600,\n",
       "                                                         1800, 2000]},\n",
       "                   pre_dispatch='2*n_jobs', random_state=10, refit=True,\n",
       "                   return_train_score=False, scoring=None, verbose=2)"
      ]
     },
     "execution_count": 126,
     "metadata": {
      "tags": []
     },
     "output_type": "execute_result"
    }
   ],
   "source": [
    "# Use the random grid to search for best hyperparameters\n",
    "\n",
    "# First create the base model to tune\n",
    "rf = RandomForestRegressor()\n",
    "rf_random = RandomizedSearchCV(estimator = rf, param_distributions = random_grid, n_iter = 10, cv = 5, verbose=2, random_state=10)\n",
    "\n",
    "# Fit the random search model\n",
    "rf_random.fit(xtrain, ytrain)"
   ]
  },
  {
   "cell_type": "code",
   "execution_count": 127,
   "metadata": {
    "colab": {
     "base_uri": "https://localhost:8080/",
     "height": 121
    },
    "colab_type": "code",
    "id": "MJPfgFubs_CD",
    "outputId": "43817883-3d98-4eeb-c9e9-03a702d86506"
   },
   "outputs": [
    {
     "data": {
      "text/plain": [
       "{'bootstrap': True,\n",
       " 'max_depth': 110,\n",
       " 'max_features': 'sqrt',\n",
       " 'min_samples_leaf': 2,\n",
       " 'min_samples_split': 10,\n",
       " 'n_estimators': 2000}"
      ]
     },
     "execution_count": 127,
     "metadata": {
      "tags": []
     },
     "output_type": "execute_result"
    }
   ],
   "source": [
    "rf_random.best_params_\n",
    "\n",
    "#{'bootstrap': False,\n",
    "#'max_depth': 90,\n",
    "#'max_features': 'sqrt',\n",
    "#'min_samples_leaf': 4,\n",
    "#'min_samples_split': 10,\n",
    "#'n_estimators': 600}"
   ]
  },
  {
   "cell_type": "code",
   "execution_count": 0,
   "metadata": {
    "colab": {},
    "colab_type": "code",
    "id": "ko-XdrZxw8pA"
   },
   "outputs": [],
   "source": [
    "#Tuning new parameters\n",
    "\n",
    "new_random_grid = {'bootstrap': [True, False],\n",
    " 'max_depth': [90, 85, 100],\n",
    " 'max_features': ['auto', 'sqrt'],\n",
    " 'min_samples_leaf': [10,20],\n",
    " 'min_samples_split': [20,30],\n",
    " 'n_estimators': [620,650,700]}"
   ]
  },
  {
   "cell_type": "code",
   "execution_count": 0,
   "metadata": {
    "colab": {},
    "colab_type": "code",
    "id": "AeH1WB5kwLOU"
   },
   "outputs": [],
   "source": [
    "rf = RandomForestRegressor()\n",
    "rf_random = RandomizedSearchCV(estimator = rf, param_distributions = new_random_grid, n_iter = 10, cv = 5, verbose=2, random_state=10)"
   ]
  },
  {
   "cell_type": "code",
   "execution_count": 130,
   "metadata": {
    "colab": {
     "base_uri": "https://localhost:8080/",
     "height": 1000
    },
    "colab_type": "code",
    "id": "J_8qN0c8xodN",
    "outputId": "206671de-7ecb-42a2-e513-7d0af163582c"
   },
   "outputs": [
    {
     "name": "stdout",
     "output_type": "stream",
     "text": [
      "Fitting 5 folds for each of 10 candidates, totalling 50 fits\n",
      "[CV] n_estimators=620, min_samples_split=30, min_samples_leaf=10, max_features=auto, max_depth=85, bootstrap=False \n"
     ]
    },
    {
     "name": "stderr",
     "output_type": "stream",
     "text": [
      "[Parallel(n_jobs=1)]: Using backend SequentialBackend with 1 concurrent workers.\n"
     ]
    },
    {
     "name": "stdout",
     "output_type": "stream",
     "text": [
      "[CV]  n_estimators=620, min_samples_split=30, min_samples_leaf=10, max_features=auto, max_depth=85, bootstrap=False, total=  11.7s\n",
      "[CV] n_estimators=620, min_samples_split=30, min_samples_leaf=10, max_features=auto, max_depth=85, bootstrap=False \n"
     ]
    },
    {
     "name": "stderr",
     "output_type": "stream",
     "text": [
      "[Parallel(n_jobs=1)]: Done   1 out of   1 | elapsed:   11.7s remaining:    0.0s\n"
     ]
    },
    {
     "name": "stdout",
     "output_type": "stream",
     "text": [
      "[CV]  n_estimators=620, min_samples_split=30, min_samples_leaf=10, max_features=auto, max_depth=85, bootstrap=False, total=  11.5s\n",
      "[CV] n_estimators=620, min_samples_split=30, min_samples_leaf=10, max_features=auto, max_depth=85, bootstrap=False \n",
      "[CV]  n_estimators=620, min_samples_split=30, min_samples_leaf=10, max_features=auto, max_depth=85, bootstrap=False, total=  11.6s\n",
      "[CV] n_estimators=620, min_samples_split=30, min_samples_leaf=10, max_features=auto, max_depth=85, bootstrap=False \n",
      "[CV]  n_estimators=620, min_samples_split=30, min_samples_leaf=10, max_features=auto, max_depth=85, bootstrap=False, total=  11.8s\n",
      "[CV] n_estimators=620, min_samples_split=30, min_samples_leaf=10, max_features=auto, max_depth=85, bootstrap=False \n",
      "[CV]  n_estimators=620, min_samples_split=30, min_samples_leaf=10, max_features=auto, max_depth=85, bootstrap=False, total=  11.6s\n",
      "[CV] n_estimators=620, min_samples_split=20, min_samples_leaf=10, max_features=sqrt, max_depth=100, bootstrap=True \n",
      "[CV]  n_estimators=620, min_samples_split=20, min_samples_leaf=10, max_features=sqrt, max_depth=100, bootstrap=True, total=   2.0s\n",
      "[CV] n_estimators=620, min_samples_split=20, min_samples_leaf=10, max_features=sqrt, max_depth=100, bootstrap=True \n",
      "[CV]  n_estimators=620, min_samples_split=20, min_samples_leaf=10, max_features=sqrt, max_depth=100, bootstrap=True, total=   2.0s\n",
      "[CV] n_estimators=620, min_samples_split=20, min_samples_leaf=10, max_features=sqrt, max_depth=100, bootstrap=True \n",
      "[CV]  n_estimators=620, min_samples_split=20, min_samples_leaf=10, max_features=sqrt, max_depth=100, bootstrap=True, total=   2.0s\n",
      "[CV] n_estimators=620, min_samples_split=20, min_samples_leaf=10, max_features=sqrt, max_depth=100, bootstrap=True \n",
      "[CV]  n_estimators=620, min_samples_split=20, min_samples_leaf=10, max_features=sqrt, max_depth=100, bootstrap=True, total=   2.0s\n",
      "[CV] n_estimators=620, min_samples_split=20, min_samples_leaf=10, max_features=sqrt, max_depth=100, bootstrap=True \n",
      "[CV]  n_estimators=620, min_samples_split=20, min_samples_leaf=10, max_features=sqrt, max_depth=100, bootstrap=True, total=   2.0s\n",
      "[CV] n_estimators=700, min_samples_split=30, min_samples_leaf=20, max_features=sqrt, max_depth=85, bootstrap=False \n",
      "[CV]  n_estimators=700, min_samples_split=30, min_samples_leaf=20, max_features=sqrt, max_depth=85, bootstrap=False, total=   2.6s\n",
      "[CV] n_estimators=700, min_samples_split=30, min_samples_leaf=20, max_features=sqrt, max_depth=85, bootstrap=False \n",
      "[CV]  n_estimators=700, min_samples_split=30, min_samples_leaf=20, max_features=sqrt, max_depth=85, bootstrap=False, total=   2.6s\n",
      "[CV] n_estimators=700, min_samples_split=30, min_samples_leaf=20, max_features=sqrt, max_depth=85, bootstrap=False \n",
      "[CV]  n_estimators=700, min_samples_split=30, min_samples_leaf=20, max_features=sqrt, max_depth=85, bootstrap=False, total=   2.6s\n",
      "[CV] n_estimators=700, min_samples_split=30, min_samples_leaf=20, max_features=sqrt, max_depth=85, bootstrap=False \n",
      "[CV]  n_estimators=700, min_samples_split=30, min_samples_leaf=20, max_features=sqrt, max_depth=85, bootstrap=False, total=   2.7s\n",
      "[CV] n_estimators=700, min_samples_split=30, min_samples_leaf=20, max_features=sqrt, max_depth=85, bootstrap=False \n",
      "[CV]  n_estimators=700, min_samples_split=30, min_samples_leaf=20, max_features=sqrt, max_depth=85, bootstrap=False, total=   2.6s\n",
      "[CV] n_estimators=650, min_samples_split=20, min_samples_leaf=20, max_features=auto, max_depth=85, bootstrap=False \n",
      "[CV]  n_estimators=650, min_samples_split=20, min_samples_leaf=20, max_features=auto, max_depth=85, bootstrap=False, total=  11.1s\n",
      "[CV] n_estimators=650, min_samples_split=20, min_samples_leaf=20, max_features=auto, max_depth=85, bootstrap=False \n",
      "[CV]  n_estimators=650, min_samples_split=20, min_samples_leaf=20, max_features=auto, max_depth=85, bootstrap=False, total=  10.8s\n",
      "[CV] n_estimators=650, min_samples_split=20, min_samples_leaf=20, max_features=auto, max_depth=85, bootstrap=False \n",
      "[CV]  n_estimators=650, min_samples_split=20, min_samples_leaf=20, max_features=auto, max_depth=85, bootstrap=False, total=  10.8s\n",
      "[CV] n_estimators=650, min_samples_split=20, min_samples_leaf=20, max_features=auto, max_depth=85, bootstrap=False \n",
      "[CV]  n_estimators=650, min_samples_split=20, min_samples_leaf=20, max_features=auto, max_depth=85, bootstrap=False, total=  11.1s\n",
      "[CV] n_estimators=650, min_samples_split=20, min_samples_leaf=20, max_features=auto, max_depth=85, bootstrap=False \n",
      "[CV]  n_estimators=650, min_samples_split=20, min_samples_leaf=20, max_features=auto, max_depth=85, bootstrap=False, total=  10.6s\n",
      "[CV] n_estimators=700, min_samples_split=30, min_samples_leaf=20, max_features=auto, max_depth=90, bootstrap=False \n",
      "[CV]  n_estimators=700, min_samples_split=30, min_samples_leaf=20, max_features=auto, max_depth=90, bootstrap=False, total=  11.9s\n",
      "[CV] n_estimators=700, min_samples_split=30, min_samples_leaf=20, max_features=auto, max_depth=90, bootstrap=False \n",
      "[CV]  n_estimators=700, min_samples_split=30, min_samples_leaf=20, max_features=auto, max_depth=90, bootstrap=False, total=  11.7s\n",
      "[CV] n_estimators=700, min_samples_split=30, min_samples_leaf=20, max_features=auto, max_depth=90, bootstrap=False \n",
      "[CV]  n_estimators=700, min_samples_split=30, min_samples_leaf=20, max_features=auto, max_depth=90, bootstrap=False, total=  11.7s\n",
      "[CV] n_estimators=700, min_samples_split=30, min_samples_leaf=20, max_features=auto, max_depth=90, bootstrap=False \n",
      "[CV]  n_estimators=700, min_samples_split=30, min_samples_leaf=20, max_features=auto, max_depth=90, bootstrap=False, total=  12.0s\n",
      "[CV] n_estimators=700, min_samples_split=30, min_samples_leaf=20, max_features=auto, max_depth=90, bootstrap=False \n",
      "[CV]  n_estimators=700, min_samples_split=30, min_samples_leaf=20, max_features=auto, max_depth=90, bootstrap=False, total=  11.4s\n",
      "[CV] n_estimators=620, min_samples_split=20, min_samples_leaf=10, max_features=auto, max_depth=100, bootstrap=False \n",
      "[CV]  n_estimators=620, min_samples_split=20, min_samples_leaf=10, max_features=auto, max_depth=100, bootstrap=False, total=  12.2s\n",
      "[CV] n_estimators=620, min_samples_split=20, min_samples_leaf=10, max_features=auto, max_depth=100, bootstrap=False \n",
      "[CV]  n_estimators=620, min_samples_split=20, min_samples_leaf=10, max_features=auto, max_depth=100, bootstrap=False, total=  12.0s\n",
      "[CV] n_estimators=620, min_samples_split=20, min_samples_leaf=10, max_features=auto, max_depth=100, bootstrap=False \n",
      "[CV]  n_estimators=620, min_samples_split=20, min_samples_leaf=10, max_features=auto, max_depth=100, bootstrap=False, total=  12.1s\n",
      "[CV] n_estimators=620, min_samples_split=20, min_samples_leaf=10, max_features=auto, max_depth=100, bootstrap=False \n",
      "[CV]  n_estimators=620, min_samples_split=20, min_samples_leaf=10, max_features=auto, max_depth=100, bootstrap=False, total=  12.3s\n",
      "[CV] n_estimators=620, min_samples_split=20, min_samples_leaf=10, max_features=auto, max_depth=100, bootstrap=False \n",
      "[CV]  n_estimators=620, min_samples_split=20, min_samples_leaf=10, max_features=auto, max_depth=100, bootstrap=False, total=  12.3s\n",
      "[CV] n_estimators=650, min_samples_split=30, min_samples_leaf=20, max_features=auto, max_depth=90, bootstrap=True \n",
      "[CV]  n_estimators=650, min_samples_split=30, min_samples_leaf=20, max_features=auto, max_depth=90, bootstrap=True, total=   7.0s\n",
      "[CV] n_estimators=650, min_samples_split=30, min_samples_leaf=20, max_features=auto, max_depth=90, bootstrap=True \n",
      "[CV]  n_estimators=650, min_samples_split=30, min_samples_leaf=20, max_features=auto, max_depth=90, bootstrap=True, total=   6.9s\n",
      "[CV] n_estimators=650, min_samples_split=30, min_samples_leaf=20, max_features=auto, max_depth=90, bootstrap=True \n",
      "[CV]  n_estimators=650, min_samples_split=30, min_samples_leaf=20, max_features=auto, max_depth=90, bootstrap=True, total=   6.8s\n",
      "[CV] n_estimators=650, min_samples_split=30, min_samples_leaf=20, max_features=auto, max_depth=90, bootstrap=True \n",
      "[CV]  n_estimators=650, min_samples_split=30, min_samples_leaf=20, max_features=auto, max_depth=90, bootstrap=True, total=   6.8s\n",
      "[CV] n_estimators=650, min_samples_split=30, min_samples_leaf=20, max_features=auto, max_depth=90, bootstrap=True \n",
      "[CV]  n_estimators=650, min_samples_split=30, min_samples_leaf=20, max_features=auto, max_depth=90, bootstrap=True, total=   6.8s\n",
      "[CV] n_estimators=620, min_samples_split=20, min_samples_leaf=10, max_features=auto, max_depth=85, bootstrap=True \n",
      "[CV]  n_estimators=620, min_samples_split=20, min_samples_leaf=10, max_features=auto, max_depth=85, bootstrap=True, total=   7.7s\n",
      "[CV] n_estimators=620, min_samples_split=20, min_samples_leaf=10, max_features=auto, max_depth=85, bootstrap=True \n",
      "[CV]  n_estimators=620, min_samples_split=20, min_samples_leaf=10, max_features=auto, max_depth=85, bootstrap=True, total=   7.7s\n",
      "[CV] n_estimators=620, min_samples_split=20, min_samples_leaf=10, max_features=auto, max_depth=85, bootstrap=True \n",
      "[CV]  n_estimators=620, min_samples_split=20, min_samples_leaf=10, max_features=auto, max_depth=85, bootstrap=True, total=   7.6s\n",
      "[CV] n_estimators=620, min_samples_split=20, min_samples_leaf=10, max_features=auto, max_depth=85, bootstrap=True \n",
      "[CV]  n_estimators=620, min_samples_split=20, min_samples_leaf=10, max_features=auto, max_depth=85, bootstrap=True, total=   7.7s\n",
      "[CV] n_estimators=620, min_samples_split=20, min_samples_leaf=10, max_features=auto, max_depth=85, bootstrap=True \n",
      "[CV]  n_estimators=620, min_samples_split=20, min_samples_leaf=10, max_features=auto, max_depth=85, bootstrap=True, total=   7.7s\n",
      "[CV] n_estimators=650, min_samples_split=30, min_samples_leaf=10, max_features=sqrt, max_depth=100, bootstrap=False \n",
      "[CV]  n_estimators=650, min_samples_split=30, min_samples_leaf=10, max_features=sqrt, max_depth=100, bootstrap=False, total=   2.7s\n",
      "[CV] n_estimators=650, min_samples_split=30, min_samples_leaf=10, max_features=sqrt, max_depth=100, bootstrap=False \n",
      "[CV]  n_estimators=650, min_samples_split=30, min_samples_leaf=10, max_features=sqrt, max_depth=100, bootstrap=False, total=   2.7s\n",
      "[CV] n_estimators=650, min_samples_split=30, min_samples_leaf=10, max_features=sqrt, max_depth=100, bootstrap=False \n",
      "[CV]  n_estimators=650, min_samples_split=30, min_samples_leaf=10, max_features=sqrt, max_depth=100, bootstrap=False, total=   2.7s\n",
      "[CV] n_estimators=650, min_samples_split=30, min_samples_leaf=10, max_features=sqrt, max_depth=100, bootstrap=False \n",
      "[CV]  n_estimators=650, min_samples_split=30, min_samples_leaf=10, max_features=sqrt, max_depth=100, bootstrap=False, total=   2.7s\n",
      "[CV] n_estimators=650, min_samples_split=30, min_samples_leaf=10, max_features=sqrt, max_depth=100, bootstrap=False \n",
      "[CV]  n_estimators=650, min_samples_split=30, min_samples_leaf=10, max_features=sqrt, max_depth=100, bootstrap=False, total=   2.7s\n",
      "[CV] n_estimators=650, min_samples_split=30, min_samples_leaf=20, max_features=auto, max_depth=100, bootstrap=True \n",
      "[CV]  n_estimators=650, min_samples_split=30, min_samples_leaf=20, max_features=auto, max_depth=100, bootstrap=True, total=   6.9s\n",
      "[CV] n_estimators=650, min_samples_split=30, min_samples_leaf=20, max_features=auto, max_depth=100, bootstrap=True \n",
      "[CV]  n_estimators=650, min_samples_split=30, min_samples_leaf=20, max_features=auto, max_depth=100, bootstrap=True, total=   6.9s\n",
      "[CV] n_estimators=650, min_samples_split=30, min_samples_leaf=20, max_features=auto, max_depth=100, bootstrap=True \n",
      "[CV]  n_estimators=650, min_samples_split=30, min_samples_leaf=20, max_features=auto, max_depth=100, bootstrap=True, total=   6.8s\n",
      "[CV] n_estimators=650, min_samples_split=30, min_samples_leaf=20, max_features=auto, max_depth=100, bootstrap=True \n",
      "[CV]  n_estimators=650, min_samples_split=30, min_samples_leaf=20, max_features=auto, max_depth=100, bootstrap=True, total=   6.9s\n",
      "[CV] n_estimators=650, min_samples_split=30, min_samples_leaf=20, max_features=auto, max_depth=100, bootstrap=True \n",
      "[CV]  n_estimators=650, min_samples_split=30, min_samples_leaf=20, max_features=auto, max_depth=100, bootstrap=True, total=   6.8s\n"
     ]
    },
    {
     "name": "stderr",
     "output_type": "stream",
     "text": [
      "[Parallel(n_jobs=1)]: Done  50 out of  50 | elapsed:  6.3min finished\n"
     ]
    },
    {
     "data": {
      "text/plain": [
       "RandomizedSearchCV(cv=5, error_score=nan,\n",
       "                   estimator=RandomForestRegressor(bootstrap=True,\n",
       "                                                   ccp_alpha=0.0,\n",
       "                                                   criterion='mse',\n",
       "                                                   max_depth=None,\n",
       "                                                   max_features='auto',\n",
       "                                                   max_leaf_nodes=None,\n",
       "                                                   max_samples=None,\n",
       "                                                   min_impurity_decrease=0.0,\n",
       "                                                   min_impurity_split=None,\n",
       "                                                   min_samples_leaf=1,\n",
       "                                                   min_samples_split=2,\n",
       "                                                   min_weight_fraction_leaf=0.0,\n",
       "                                                   n_estimators=100,\n",
       "                                                   n_jobs=None, oob_score=False,\n",
       "                                                   random_state=None, verbose=0,\n",
       "                                                   warm_start=False),\n",
       "                   iid='deprecated', n_iter=10, n_jobs=None,\n",
       "                   param_distributions={'bootstrap': [True, False],\n",
       "                                        'max_depth': [90, 85, 100],\n",
       "                                        'max_features': ['auto', 'sqrt'],\n",
       "                                        'min_samples_leaf': [10, 20],\n",
       "                                        'min_samples_split': [20, 30],\n",
       "                                        'n_estimators': [620, 650, 700]},\n",
       "                   pre_dispatch='2*n_jobs', random_state=10, refit=True,\n",
       "                   return_train_score=False, scoring=None, verbose=2)"
      ]
     },
     "execution_count": 130,
     "metadata": {
      "tags": []
     },
     "output_type": "execute_result"
    }
   ],
   "source": [
    "rf_random.fit(xtrain, ytrain)"
   ]
  },
  {
   "cell_type": "code",
   "execution_count": 131,
   "metadata": {
    "colab": {
     "base_uri": "https://localhost:8080/",
     "height": 121
    },
    "colab_type": "code",
    "id": "YagfqZmxxshy",
    "outputId": "d765e4c4-5212-49e9-88d8-679f07f5951e"
   },
   "outputs": [
    {
     "data": {
      "text/plain": [
       "{'bootstrap': True,\n",
       " 'max_depth': 90,\n",
       " 'max_features': 'auto',\n",
       " 'min_samples_leaf': 20,\n",
       " 'min_samples_split': 30,\n",
       " 'n_estimators': 650}"
      ]
     },
     "execution_count": 131,
     "metadata": {
      "tags": []
     },
     "output_type": "execute_result"
    }
   ],
   "source": [
    "rf_random.best_params_\n",
    "\n",
    "#{'bootstrap': True,'max_depth': 100,'max_features': 'auto','min_samples_leaf': 20,'min_samples_split': 30,'n_estimators': 650}"
   ]
  },
  {
   "cell_type": "code",
   "execution_count": 0,
   "metadata": {
    "colab": {},
    "colab_type": "code",
    "id": "LE2C1WSh1Zql"
   },
   "outputs": [],
   "source": [
    "#Running RandomForestRegressor with best parameters\n",
    "rf = RandomForestRegressor(n_estimators=650, bootstrap=True, max_depth=90, max_features='auto', min_samples_leaf=20, min_samples_split=30)"
   ]
  },
  {
   "cell_type": "code",
   "execution_count": 134,
   "metadata": {
    "colab": {
     "base_uri": "https://localhost:8080/",
     "height": 139
    },
    "colab_type": "code",
    "id": "ZCsyAzRw2be0",
    "outputId": "32f8e14b-277d-4a63-9483-b48f5d2fe7b7"
   },
   "outputs": [
    {
     "data": {
      "text/plain": [
       "RandomForestRegressor(bootstrap=True, ccp_alpha=0.0, criterion='mse',\n",
       "                      max_depth=90, max_features='auto', max_leaf_nodes=None,\n",
       "                      max_samples=None, min_impurity_decrease=0.0,\n",
       "                      min_impurity_split=None, min_samples_leaf=20,\n",
       "                      min_samples_split=30, min_weight_fraction_leaf=0.0,\n",
       "                      n_estimators=650, n_jobs=None, oob_score=False,\n",
       "                      random_state=None, verbose=0, warm_start=False)"
      ]
     },
     "execution_count": 134,
     "metadata": {
      "tags": []
     },
     "output_type": "execute_result"
    }
   ],
   "source": [
    "rf.fit(xtrain, ytrain)"
   ]
  },
  {
   "cell_type": "code",
   "execution_count": 0,
   "metadata": {
    "colab": {},
    "colab_type": "code",
    "id": "aVZ_Cl9L2eZQ"
   },
   "outputs": [],
   "source": [
    "feature_importances = pd.DataFrame(rf.feature_importances_,\n",
    "                                   index = xtrain.columns,\n",
    "                                    columns=['importance']).sort_values('importance',ascending=False)"
   ]
  },
  {
   "cell_type": "code",
   "execution_count": 150,
   "metadata": {
    "colab": {
     "base_uri": "https://localhost:8080/",
     "height": 621
    },
    "colab_type": "code",
    "id": "pK_Bs737xo7c",
    "outputId": "80ade610-a844-4995-b459-5fec4d576b3b"
   },
   "outputs": [
    {
     "data": {
      "image/png": "[encoded data removed]",
      "text/plain": [
       "<Figure size 1080x720 with 1 Axes>"
      ]
     },
     "metadata": {
      "tags": []
     },
     "output_type": "display_data"
    }
   ],
   "source": [
    "features = xtrain.columns\n",
    "importances = rf.feature_importances_\n",
    "indices = np.argsort(importances)\n",
    "\n",
    "plt.figure(figsize=(15,10))\n",
    "plt.title('Feature Importances')\n",
    "plt.barh(range(len(indices)), importances[indices], color='b', align='center')\n",
    "plt.yticks(range(len(indices)), [features[i] for i in indices])\n",
    "plt.xlabel('Relative Importance')\n",
    "plt.show()"
   ]
  },
  {
   "cell_type": "code",
   "execution_count": 0,
   "metadata": {
    "colab": {},
    "colab_type": "code",
    "id": "8rM_2i4p3BR_"
   },
   "outputs": [],
   "source": [
    "pred = rf.predict(validation_data.drop('Counterfeit_Sales', axis=1))"
   ]
  },
  {
   "cell_type": "code",
   "execution_count": 141,
   "metadata": {
    "colab": {
     "base_uri": "https://localhost:8080/",
     "height": 35
    },
    "colab_type": "code",
    "id": "bJ5w6Yfx2oad",
    "outputId": "e82c0a67-29c0-469b-97c5-f6e8c59eb427"
   },
   "outputs": [
    {
     "data": {
      "text/plain": [
       "741.0065065995029"
      ]
     },
     "execution_count": 141,
     "metadata": {
      "tags": []
     },
     "output_type": "execute_result"
    }
   ],
   "source": [
    "mean_absolute_error(validation_data['Counterfeit_Sales'],pred"
   ]
  },
  {
   "cell_type": "markdown",
   "metadata": {
    "colab_type": "text",
    "id": "4cwIBV3Yyifq"
   },
   "source": [
    "RandomForestRegressor performs well, but still it can be tuned further or maybe boosting algorithms can be used"
   ]
  },
  {
   "cell_type": "code",
   "execution_count": 142,
   "metadata": {
    "colab": {
     "base_uri": "https://localhost:8080/",
     "height": 139
    },
    "colab_type": "code",
    "id": "RkdyH2rl8SAo",
    "outputId": "f25cfb97-84f6-4533-c149-ea69927166c8"
   },
   "outputs": [
    {
     "data": {
      "text/plain": [
       "RandomForestRegressor(bootstrap=True, ccp_alpha=0.0, criterion='mse',\n",
       "                      max_depth=90, max_features='auto', max_leaf_nodes=None,\n",
       "                      max_samples=None, min_impurity_decrease=0.0,\n",
       "                      min_impurity_split=None, min_samples_leaf=20,\n",
       "                      min_samples_split=30, min_weight_fraction_leaf=0.0,\n",
       "                      n_estimators=650, n_jobs=None, oob_score=False,\n",
       "                      random_state=None, verbose=0, warm_start=False)"
      ]
     },
     "execution_count": 142,
     "metadata": {
      "tags": []
     },
     "output_type": "execute_result"
    }
   ],
   "source": [
    "#Running the model on entire train_file\n",
    "\n",
    "xtrain1 = train_file.drop('Counterfeit_Sales', axis=1)\n",
    "ytrain2 = train_file['Counterfeit_Sales']\n",
    "\n",
    "rf.fit(xtrain1,ytrain2)"
   ]
  },
  {
   "cell_type": "code",
   "execution_count": 0,
   "metadata": {
    "colab": {},
    "colab_type": "code",
    "id": "zyfYGnlM-oR2"
   },
   "outputs": [],
   "source": [
    "predicted_values = rf.predict(test_file)"
   ]
  },
  {
   "cell_type": "code",
   "execution_count": 144,
   "metadata": {
    "colab": {
     "base_uri": "https://localhost:8080/",
     "height": 52
    },
    "colab_type": "code",
    "id": "loH_Ep9V-0FT",
    "outputId": "58d77ef9-7372-42b4-c547-e072bd99abeb"
   },
   "outputs": [
    {
     "data": {
      "text/plain": [
       "array([2196.29966772, 3672.84827158, 1683.11008401,  353.44411281,\n",
       "        375.50788101])"
      ]
     },
     "execution_count": 144,
     "metadata": {
      "tags": []
     },
     "output_type": "execute_result"
    }
   ],
   "source": [
    "predicted_values[0:5]"
   ]
  },
  {
   "cell_type": "code",
   "execution_count": 0,
   "metadata": {
    "colab": {},
    "colab_type": "code",
    "id": "lLvTHVvY_F5J"
   },
   "outputs": [],
   "source": [
    "#Submission File\n",
    "pd.DataFrame(predicted_values).to_csv(\"mysubmission.csv\",index=False)"
   ]
  }
 ],
 "metadata": {
  "accelerator": "GPU",
  "colab": {
   "collapsed_sections": [],
   "name": "Python_Project3.ipynb",
   "provenance": []
  },
  "kernelspec": {
   "display_name": "Python 3",
   "language": "python",
   "name": "python3"
  },
  "language_info": {
   "codemirror_mode": {
    "name": "ipython",
    "version": 3
   },
   "file_extension": ".py",
   "mimetype": "text/x-python",
   "name": "python",
   "nbconvert_exporter": "python",
   "pygments_lexer": "ipython3",
   "version": "3.7.3"
  }
 },
 "nbformat": 4,
 "nbformat_minor": 1
}
